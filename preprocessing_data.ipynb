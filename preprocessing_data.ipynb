{
  "cells": [
    {
      "cell_type": "markdown",
      "metadata": {
        "id": "view-in-github",
        "colab_type": "text"
      },
      "source": [
        "<a href=\"https://colab.research.google.com/github/bzhao10/cs598_dlh_final_project/blob/main/preprocessing_data.ipynb\" target=\"_parent\"><img src=\"https://colab.research.google.com/assets/colab-badge.svg\" alt=\"Open In Colab\"/></a>"
      ]
    },
    {
      "cell_type": "markdown",
      "metadata": {
        "id": "WAOoKyInOiNv"
      },
      "source": [
        "CS 598 Final Project"
      ]
    },
    {
      "cell_type": "code",
      "execution_count": null,
      "metadata": {
        "colab": {
          "base_uri": "https://localhost:8080/"
        },
        "id": "Fd8yoI-0-_3N",
        "outputId": "03bb4b62-7132-431e-a6c9-e5473c29ea92"
      },
      "outputs": [
        {
          "name": "stdout",
          "output_type": "stream",
          "text": [
            "Requirement already satisfied: strsimpy in c:\\users\\pengz3\\anaconda3\\lib\\site-packages (0.2.1)\n",
            "Requirement already satisfied: simplejson in c:\\users\\pengz3\\anaconda3\\lib\\site-packages (3.17.6)\n"
          ]
        }
      ],
      "source": [
        "!pip install -U strsimpy\n",
        "!pip3 install simplejson"
      ]
    },
    {
      "cell_type": "code",
      "execution_count": null,
      "metadata": {
        "colab": {
          "base_uri": "https://localhost:8080/"
        },
        "id": "8kUV5_djOg7P",
        "outputId": "f4f566cb-0810-4679-fa8d-2798977f4d80"
      },
      "outputs": [
        {
          "name": "stderr",
          "output_type": "stream",
          "text": [
            "[nltk_data] Downloading package punkt to\n",
            "[nltk_data]     C:\\Users\\pengz3\\AppData\\Roaming\\nltk_data...\n",
            "[nltk_data]   Package punkt is already up-to-date!\n"
          ]
        }
      ],
      "source": [
        "import pandas as pd\n",
        "import time\n",
        "import numpy as np\n",
        "import string\n",
        "import nltk\n",
        "from nltk import word_tokenize\n",
        "from nltk.tokenize import WhitespaceTokenizer\n",
        "nltk.download('punkt')\n",
        "notes=pd.read_csv(r'C:\\Users\\pengz3\\Downloads\\noteevents_icd_codes.csv')"
      ]
    },
    {
      "cell_type": "code",
      "execution_count": null,
      "metadata": {
        "id": "XnW-e8ANIXJO"
      },
      "outputs": [],
      "source": [
        "''' Preprocessed Data '''\n",
        "'''\n",
        "    (1) Punctuation characters, except for the apostrophe, are converted to whitespace\n",
        "    (2) Digits are replaced by the character ’d’\n",
        "    (3) All characters are converted to lowercase \n",
        "'''\n",
        "#pre_process data content\n",
        "notes.TEXT = notes.TEXT.str.replace('\\n', '')  # remove newline\n",
        "notes.TEXT = notes.TEXT.str.replace('\\r', '')  # carriage returns\n",
        "table = str.maketrans('!\"#$%&()*+,-./:;<=>?@[\\]^_`{|}~', ' '*len('!\"#$%&()*+,-./:;<=>?@[\\]^_`{|}~'))\n",
        "notes.TEXT = [w.translate(table) for w in notes.TEXT]\n",
        "table2 = str.maketrans('','','1234567890')\n",
        "notes.TEXT = [w.translate(table2) for w in notes.TEXT]\n",
        "notes.TEXT = notes.TEXT.str.lower()"
      ]
    },
    {
      "cell_type": "code",
      "execution_count": null,
      "metadata": {
        "colab": {
          "base_uri": "https://localhost:8080/"
        },
        "id": "kwGB5HXDIzKO",
        "outputId": "711e7d72-2aba-4c21-b19f-5396191819ae"
      },
      "outputs": [
        {
          "name": "stdout",
          "output_type": "stream",
          "text": [
            "processed count:  10000\n",
            "processed count:  20000\n",
            "processed count:  30000\n",
            "processed count:  40000\n",
            "processed count:  50000\n",
            "processed count:  60000\n",
            "processed count:  70000\n",
            "processed count:  80000\n",
            "processed count:  90000\n",
            "processed count:  100000\n",
            "processed count:  110000\n",
            "processed count:  120000\n",
            "processed count:  130000\n",
            "processed count:  140000\n",
            "processed count:  150000\n",
            "processed count:  160000\n",
            "processed count:  170000\n",
            "processed count:  180000\n",
            "processed count:  190000\n",
            "processed count:  200000\n",
            "processed count:  210000\n",
            "processed count:  220000\n",
            "processed count:  230000\n",
            "processed count:  240000\n",
            "0         [acute, pain, assessment, pt, has, generalized...\n",
            "1         [subjective, patient, did, not, eat, breakfast...\n",
            "2         [acute, pain, assessment, pt, c, o, back, and,...\n",
            "3         [acute, pain, assessment, pt, has, generalized...\n",
            "4         [patient, pod, c, c, anterior, fusion, pod, c,...\n",
            "                                ...                        \n",
            "240562    [pain, control, acute, pain, chronic, pain, as...\n",
            "240563    [pain, control, acute, pain, chronic, pain, as...\n",
            "240564    [hypertension, benign, assessment, pt, hyperte...\n",
            "240565    [ccu, nursing, admit, note, contpt, arrived, t...\n",
            "240566    [ccu, nursing, progress, notes, my, pressure, ...\n",
            "Name: tokens, Length: 240567, dtype: object\n"
          ]
        }
      ],
      "source": [
        "'''\n",
        "  (4) The report is split at whitespace characters\n",
        "'''\n",
        "#tokenize data\n",
        "tk = WhitespaceTokenizer()\n",
        "notes['tokens'] = notes['TEXT']\n",
        "corpus = []\n",
        "count = 0\n",
        "for i in range(len(notes)):\n",
        "  count += 1\n",
        "  if count%10000 == 0:\n",
        "    print('processed count: ', count)\n",
        "  note_tokenized = word_tokenize(notes['TEXT'][i])\n",
        "  notes.at[i, 'tokens'] = note_tokenized\n",
        "  corpus += note_tokenized\n",
        "print(notes['tokens'])"
      ]
    },
    {
      "cell_type": "code",
      "execution_count": null,
      "metadata": {
        "colab": {
          "base_uri": "https://localhost:8080/"
        },
        "id": "g4h5UUV38GB0",
        "outputId": "fe23e3e4-a51e-4ef5-a664-39165d79d9dc"
      },
      "outputs": [
        {
          "name": "stdout",
          "output_type": "stream",
          "text": [
            "157674\n"
          ]
        }
      ],
      "source": [
        "'''\n",
        "count distinct words amount\n",
        "'''\n",
        "from collections import Counter\n",
        "items = Counter(corpus).keys()\n",
        "print(len(items))"
      ]
    },
    {
      "cell_type": "code",
      "execution_count": null,
      "metadata": {
        "id": "w03UcLli-GAi"
      },
      "outputs": [],
      "source": [
        "# with open(\"/content/drive/MyDrive/DLH_final_project_dataset/corpus_line.txt\", \"w\") as opfile:\n",
        "#     opfile.write(\"\\n\".join(corpus))\n",
        "\n",
        "# with open(\"/content/drive/MyDrive/DLH_final_project_dataset/corpus_space.txt\", \"w\") as opfile:\n",
        "#     opfile.write(\" \".join(corpus))"
      ]
    },
    {
      "cell_type": "code",
      "execution_count": null,
      "metadata": {
        "colab": {
          "base_uri": "https://localhost:8080/"
        },
        "id": "wWNtgcrgLWaw",
        "outputId": "2129e60e-7e4e-4c9d-a9c5-5cb2df982954"
      },
      "outputs": [
        {
          "name": "stdout",
          "output_type": "stream",
          "text": [
            "words_counts: to             1674085\n",
            "and            1496340\n",
            "with           1028895\n",
            "of              982619\n",
            "on              792101\n",
            "                ...   \n",
            "diurseisk            1\n",
            "reviewpa             1\n",
            "dpressions           1\n",
            "rewsponds            1\n",
            "epidgastric          1\n",
            "Length: 157674, dtype: int64\n",
            "112525\n",
            "45149\n"
          ]
        }
      ],
      "source": [
        "'''\n",
        "  (5) Tokens that occur less than 5 times in the whole corpus are eliminated. \n",
        "  (6) These eliminated tokens are then mapped to their most similar token of the ones which were kept. \n",
        "'''\n",
        "from strsimpy.levenshtein import Levenshtein\n",
        "import timeit\n",
        "levenshtein = Levenshtein()\n",
        "words_counts =pd.value_counts(corpus)\n",
        "print('words_counts:', words_counts)\n",
        "rare_words = words_counts[words_counts<5].index.tolist()\n",
        "common_words = words_counts[words_counts>=5].index.tolist()\n",
        "print(len(rare_words))\n",
        "print(len(common_words))"
      ]
    },
    {
      "cell_type": "code",
      "execution_count": null,
      "metadata": {
        "colab": {
          "base_uri": "https://localhost:8080/"
        },
        "id": "UD-9BV04phXB",
        "outputId": "5f63515f-6ee2-49e2-cf5c-f3e66609fc3d"
      },
      "outputs": [
        {
          "name": "stdout",
          "output_type": "stream",
          "text": [
            "report_size:  240567\n",
            "report_size_after:  239205\n"
          ]
        }
      ],
      "source": [
        "''' \n",
        " (7) keep only reports which have more than 9 and less than 2200 tokens.\n",
        "'''\n",
        "print('report_size: ', len(notes))\n",
        "notes = notes.reset_index()\n",
        "for i in range(len(notes)): \n",
        "  token_list = notes['tokens'][i]\n",
        "  if len(token_list) < 9 or len(token_list) >2200:\n",
        "    notes = notes.drop(i)\n",
        "    continue\n",
        "print('report_size_after: ', len(notes)) #before 240567 after 239205"
      ]
    },
    {
      "cell_type": "code",
      "execution_count": null,
      "metadata": {
        "colab": {
          "base_uri": "https://localhost:8080/"
        },
        "id": "NBvz7OmJ5a4r",
        "outputId": "9c7fc9b3-d93f-49ca-c4f7-8dfd5b71280e"
      },
      "outputs": [
        {
          "name": "stdout",
          "output_type": "stream",
          "text": [
            "count num:  10000\n",
            "count num:  20000\n",
            "count num:  30000\n",
            "count num:  40000\n",
            "count num:  50000\n",
            "count num:  60000\n",
            "count num:  70000\n",
            "count num:  80000\n",
            "count num:  90000\n",
            "count num:  100000\n",
            "count num:  110000\n",
            "count num:  120000\n",
            "count num:  130000\n",
            "count num:  140000\n",
            "count num:  150000\n",
            "count num:  160000\n",
            "count num:  170000\n",
            "count num:  180000\n",
            "count num:  190000\n",
            "count num:  200000\n",
            "count num:  210000\n",
            "count num:  220000\n",
            "count num:  230000\n"
          ]
        }
      ],
      "source": [
        "'''\n",
        "  (8) The most similar token is defned as the one which minimizes the Levenshtein distance string metric.\n",
        "'''\n",
        "import json\n",
        "with open(r'C:\\Users\\pengz3\\Downloads\\rare_common_dict_new.json') as json_file:\n",
        "    rare_common_words_mapping= json.load(json_file)\n",
        "new_corpus = []\n",
        "count = 0 \n",
        "notes = notes.reset_index()\n",
        "for j in range(len(notes)):\n",
        "  count +=1\n",
        "  if count %10000 == 0:\n",
        "    print('count num: ', count)\n",
        "  token_list = notes['tokens'][j]\n",
        "  for i, item in enumerate(token_list):\n",
        "    if item in rare_common_words_mapping:\n",
        "      token_list[i] = rare_common_words_mapping.get(item)\n",
        "  new_corpus += token_list"
      ]
    },
    {
      "cell_type": "code",
      "execution_count": null,
      "metadata": {
        "colab": {
          "base_uri": "https://localhost:8080/"
        },
        "id": "v-3Ps7Bt80CV",
        "outputId": "d44931a9-4af0-4df5-f7e8-a9eb89da5a1a"
      },
      "outputs": [
        {
          "name": "stdout",
          "output_type": "stream",
          "text": [
            "45340\n"
          ]
        }
      ],
      "source": [
        "'''\n",
        "count distinct words amount\n",
        "'''\n",
        "from collections import Counter\n",
        "items = Counter(new_corpus).keys()\n",
        "print(len(items)) #before: 157782 after:45340"
      ]
    },
    {
      "cell_type": "code",
      "execution_count": null,
      "metadata": {
        "colab": {
          "base_uri": "https://localhost:8080/"
        },
        "id": "vdgHLLbiR_BG",
        "outputId": "5b055b55-c22c-44a2-f69b-54018bc3d29b"
      },
      "outputs": [
        {
          "name": "stderr",
          "output_type": "stream",
          "text": [
            "C:\\Users\\pengz3\\AppData\\Local\\Temp/ipykernel_18820/1284499183.py:8: SettingWithCopyWarning: \n",
            "A value is trying to be set on a copy of a slice from a DataFrame\n",
            "\n",
            "See the caveats in the documentation: https://pandas.pydata.org/pandas-docs/stable/user_guide/indexing.html#returning-a-view-versus-a-copy\n",
            "  notes['TEXT'][j] = ' '.join(token_list)\n"
          ]
        },
        {
          "name": "stdout",
          "output_type": "stream",
          "text": [
            "count num:  10000\n",
            "count num:  20000\n",
            "count num:  30000\n",
            "count num:  40000\n",
            "count num:  50000\n",
            "count num:  60000\n",
            "count num:  70000\n",
            "count num:  80000\n",
            "count num:  90000\n",
            "count num:  100000\n",
            "count num:  110000\n",
            "count num:  120000\n",
            "count num:  130000\n",
            "count num:  140000\n",
            "count num:  150000\n",
            "count num:  160000\n",
            "count num:  170000\n",
            "count num:  180000\n",
            "count num:  190000\n",
            "count num:  200000\n",
            "count num:  210000\n",
            "count num:  220000\n",
            "count num:  230000\n"
          ]
        }
      ],
      "source": [
        "#Add preprocessed tokens back to TEXT\n",
        "count = 0 \n",
        "for j in range(len(notes)):\n",
        "  count +=1\n",
        "  if count %10000 == 0:\n",
        "    print('count num: ', count)\n",
        "  token_list = notes['tokens'][j]\n",
        "  notes['TEXT'][j] = ' '.join(token_list)"
      ]
    },
    {
      "cell_type": "code",
      "execution_count": null,
      "metadata": {
        "colab": {
          "base_uri": "https://localhost:8080/"
        },
        "id": "0GqcW9MBLEQ_",
        "outputId": "9e3918d7-d4fa-4cd9-cc5c-e8ab8d460cb3"
      },
      "outputs": [
        {
          "name": "stdout",
          "output_type": "stream",
          "text": [
            "reg_code_size:  3485\n",
            "rolled_up_code_size:  737\n",
            "category_size:  11\n"
          ]
        }
      ],
      "source": [
        "#generate unique reg_codes_list\n",
        "reg_icd_codes_str_list= notes['reg_icd_codes'].tolist()\n",
        "reg_icd_codes_all = []\n",
        "for item in reg_icd_codes_str_list:\n",
        "  li = list(item.split(\",\"))\n",
        "  reg_icd_codes_all += li\n",
        "reg_unique_list = np.array(reg_icd_codes_all)\n",
        "reg_unique_list = np.unique(reg_unique_list)\n",
        "print('reg_code_size: ',len(reg_unique_list))\n",
        "\n",
        "#generate unique rolled_up_list:\n",
        "rolled_up_icd_codes_str_list= notes['rolled_up_icd_codes'].tolist()\n",
        "rolled_up_icd_codes_all = []\n",
        "for item in rolled_up_icd_codes_str_list:\n",
        "  li = list(item.split(\",\"))\n",
        "  rolled_up_icd_codes_all += li\n",
        "rolled_up_unique_list = np.array(rolled_up_icd_codes_all)\n",
        "rolled_up_unique_list = np.unique(rolled_up_unique_list)\n",
        "print('rolled_up_code_size: ', len(rolled_up_unique_list))\n",
        "\n",
        "#generate unique category_list:\n",
        "category_str_list= notes['CATEGORY'].tolist()\n",
        "category_all = []\n",
        "for item in category_str_list:\n",
        "  li = list(item.split(\",\"))\n",
        "  category_all += li\n",
        "category_unique_list = np.array(category_all)\n",
        "category_unique_list = np.unique(category_unique_list)\n",
        "print('category_size: ',len(category_unique_list))\n"
      ]
    },
    {
      "cell_type": "code",
      "execution_count": null,
      "metadata": {
        "colab": {
          "base_uri": "https://localhost:8080/"
        },
        "id": "BcYOjukSR1mD",
        "outputId": "3ea7e8ce-4843-484f-8f47-4a00ddabee82"
      },
      "outputs": [
        {
          "name": "stderr",
          "output_type": "stream",
          "text": [
            "C:\\Users\\pengz3\\AppData\\Local\\Temp/ipykernel_18820/334706856.py:3: SettingWithCopyWarning: \n",
            "A value is trying to be set on a copy of a slice from a DataFrame.\n",
            "Try using .loc[row_indexer,col_indexer] = value instead\n",
            "\n",
            "See the caveats in the documentation: https://pandas.pydata.org/pandas-docs/stable/user_guide/indexing.html#returning-a-view-versus-a-copy\n",
            "  reg_notes['reg_code_' + item.rstrip()] = np.where(notes['reg_icd_codes'].str.contains(pat = item), 1, 0)\n",
            "C:\\Users\\pengz3\\AppData\\Local\\Temp/ipykernel_18820/334706856.py:3: PerformanceWarning: DataFrame is highly fragmented.  This is usually the result of calling `frame.insert` many times, which has poor performance.  Consider joining all columns at once using pd.concat(axis=1) instead.  To get a de-fragmented frame, use `newframe = frame.copy()`\n",
            "  reg_notes['reg_code_' + item.rstrip()] = np.where(notes['reg_icd_codes'].str.contains(pat = item), 1, 0)\n"
          ]
        },
        {
          "name": "stdout",
          "output_type": "stream",
          "text": [
            "                                                     TEXT  reg_code_0030  \\\n",
            "0       acute pain assessment pt has generalized as we...              0   \n",
            "1       subjective patient did not eat breakfast today...              0   \n",
            "2       acute pain assessment pt c o back and neck pai...              0   \n",
            "3       acute pain assessment pt has generalized as we...              0   \n",
            "4       patient pod c c anterior fusion pod c laminect...              0   \n",
            "...                                                   ...            ...   \n",
            "239200  pain control acute pain chronic pain assessmen...              0   \n",
            "239201  pain control acute pain chronic pain assessmen...              0   \n",
            "239202  hypertension benign assessment pt hypertensive...              0   \n",
            "239203  ccu nursing admit note cont arrived to ccu at ...              0   \n",
            "239204  ccu nursing progress notes my pressure is lowe...              0   \n",
            "\n",
            "        reg_code_0048  reg_code_00581  reg_code_0074  reg_code_00845  \\\n",
            "0                   0               0              0               0   \n",
            "1                   0               0              0               0   \n",
            "2                   0               0              0               0   \n",
            "3                   0               0              0               0   \n",
            "4                   0               0              0               0   \n",
            "...               ...             ...            ...             ...   \n",
            "239200              0               0              0               0   \n",
            "239201              0               0              0               0   \n",
            "239202              0               0              0               0   \n",
            "239203              0               0              0               0   \n",
            "239204              0               0              0               0   \n",
            "\n",
            "        reg_code_0085  reg_code_00863  reg_code_00869  reg_code_0088  ...  \\\n",
            "0                   0               0               0              0  ...   \n",
            "1                   0               0               0              0  ...   \n",
            "2                   0               0               0              0  ...   \n",
            "3                   0               0               0              0  ...   \n",
            "4                   0               0               0              0  ...   \n",
            "...               ...             ...             ...            ...  ...   \n",
            "239200              0               0               0              0  ...   \n",
            "239201              0               0               0              0  ...   \n",
            "239202              0               0               0              0  ...   \n",
            "239203              0               0               0              0  ...   \n",
            "239204              0               0               0              0  ...   \n",
            "\n",
            "        category_Consult  category_General  category_Nursing  \\\n",
            "0                      0                 0                 1   \n",
            "1                      0                 0                 0   \n",
            "2                      0                 0                 1   \n",
            "3                      0                 0                 1   \n",
            "4                      0                 0                 1   \n",
            "...                  ...               ...               ...   \n",
            "239200                 0                 0                 1   \n",
            "239201                 0                 0                 1   \n",
            "239202                 0                 0                 1   \n",
            "239203                 0                 0                 0   \n",
            "239204                 0                 0                 0   \n",
            "\n",
            "        category_Nursing/other  category_Nutrition  category_Pharmacy  \\\n",
            "0                            0                   0                  0   \n",
            "1                            0                   1                  0   \n",
            "2                            0                   0                  0   \n",
            "3                            0                   0                  0   \n",
            "4                            0                   0                  0   \n",
            "...                        ...                 ...                ...   \n",
            "239200                       0                   0                  0   \n",
            "239201                       0                   0                  0   \n",
            "239202                       0                   0                  0   \n",
            "239203                       1                   0                  0   \n",
            "239204                       1                   0                  0   \n",
            "\n",
            "        category_Physician  category_Rehab Services  category_Respiratory  \\\n",
            "0                        0                        0                     0   \n",
            "1                        0                        0                     0   \n",
            "2                        0                        0                     0   \n",
            "3                        0                        0                     0   \n",
            "4                        0                        0                     0   \n",
            "...                    ...                      ...                   ...   \n",
            "239200                   0                        0                     0   \n",
            "239201                   0                        0                     0   \n",
            "239202                   0                        0                     0   \n",
            "239203                   0                        0                     0   \n",
            "239204                   0                        0                     0   \n",
            "\n",
            "        category_Social Work  \n",
            "0                          0  \n",
            "1                          0  \n",
            "2                          0  \n",
            "3                          0  \n",
            "4                          0  \n",
            "...                      ...  \n",
            "239200                     0  \n",
            "239201                     0  \n",
            "239202                     0  \n",
            "239203                     0  \n",
            "239204                     0  \n",
            "\n",
            "[239205 rows x 3497 columns]\n"
          ]
        },
        {
          "name": "stderr",
          "output_type": "stream",
          "text": [
            "C:\\Users\\pengz3\\AppData\\Local\\Temp/ipykernel_18820/334706856.py:5: PerformanceWarning: DataFrame is highly fragmented.  This is usually the result of calling `frame.insert` many times, which has poor performance.  Consider joining all columns at once using pd.concat(axis=1) instead.  To get a de-fragmented frame, use `newframe = frame.copy()`\n",
            "  reg_notes['category_' + item.rstrip()] = np.where(notes['CATEGORY'] == item, 1, 0)\n"
          ]
        }
      ],
      "source": [
        "reg_notes = notes[['TEXT']]\n",
        "for item in reg_unique_list:\n",
        "  reg_notes['reg_code_' + item.rstrip()] = np.where(notes['reg_icd_codes'].str.contains(pat = item), 1, 0)\n",
        "for item in category_unique_list:\n",
        "  reg_notes['category_' + item.rstrip()] = np.where(notes['CATEGORY'] == item, 1, 0)\n",
        "print(reg_notes)"
      ]
    },
    {
      "cell_type": "code",
      "execution_count": null,
      "metadata": {
        "colab": {
          "base_uri": "https://localhost:8080/"
        },
        "id": "0oDJNmM7UDtB",
        "outputId": "f7b7a013-7b39-43d1-e550-34e0f2f9d161"
      },
      "outputs": [
        {
          "name": "stderr",
          "output_type": "stream",
          "text": [
            "C:\\Users\\pengz3\\AppData\\Local\\Temp/ipykernel_18820/1487981942.py:3: SettingWithCopyWarning: \n",
            "A value is trying to be set on a copy of a slice from a DataFrame.\n",
            "Try using .loc[row_indexer,col_indexer] = value instead\n",
            "\n",
            "See the caveats in the documentation: https://pandas.pydata.org/pandas-docs/stable/user_guide/indexing.html#returning-a-view-versus-a-copy\n",
            "  rolled_up_notes['rolled_up_code_' + item.rstrip()] = np.where(notes['rolled_up_icd_codes'].str.contains(pat = item), 1, 0)\n",
            "C:\\Users\\pengz3\\AppData\\Local\\Temp/ipykernel_18820/1487981942.py:3: PerformanceWarning: DataFrame is highly fragmented.  This is usually the result of calling `frame.insert` many times, which has poor performance.  Consider joining all columns at once using pd.concat(axis=1) instead.  To get a de-fragmented frame, use `newframe = frame.copy()`\n",
            "  rolled_up_notes['rolled_up_code_' + item.rstrip()] = np.where(notes['rolled_up_icd_codes'].str.contains(pat = item), 1, 0)\n"
          ]
        },
        {
          "name": "stdout",
          "output_type": "stream",
          "text": [
            "                                                     TEXT  rolled_up_code_003  \\\n",
            "0       acute pain assessment pt has generalized as we...                   0   \n",
            "1       subjective patient did not eat breakfast today...                   0   \n",
            "2       acute pain assessment pt c o back and neck pai...                   0   \n",
            "3       acute pain assessment pt has generalized as we...                   0   \n",
            "4       patient pod c c anterior fusion pod c laminect...                   0   \n",
            "...                                                   ...                 ...   \n",
            "239200  pain control acute pain chronic pain assessmen...                   0   \n",
            "239201  pain control acute pain chronic pain assessmen...                   0   \n",
            "239202  hypertension benign assessment pt hypertensive...                   0   \n",
            "239203  ccu nursing admit note cont arrived to ccu at ...                   0   \n",
            "239204  ccu nursing progress notes my pressure is lowe...                   0   \n",
            "\n",
            "        rolled_up_code_004  rolled_up_code_005  rolled_up_code_007  \\\n",
            "0                        0                   0                   0   \n",
            "1                        0                   0                   0   \n",
            "2                        0                   0                   0   \n",
            "3                        0                   0                   0   \n",
            "4                        0                   0                   0   \n",
            "...                    ...                 ...                 ...   \n",
            "239200                   0                   0                   0   \n",
            "239201                   0                   0                   0   \n",
            "239202                   0                   0                   0   \n",
            "239203                   0                   0                   0   \n",
            "239204                   0                   0                   0   \n",
            "\n",
            "        rolled_up_code_008  rolled_up_code_009  rolled_up_code_010  \\\n",
            "0                        0                   0                   0   \n",
            "1                        0                   0                   0   \n",
            "2                        0                   0                   0   \n",
            "3                        0                   0                   0   \n",
            "4                        0                   0                   0   \n",
            "...                    ...                 ...                 ...   \n",
            "239200                   0                   0                   0   \n",
            "239201                   0                   0                   0   \n",
            "239202                   0                   0                   0   \n",
            "239203                   0                   0                   0   \n",
            "239204                   0                   0                   0   \n",
            "\n",
            "        rolled_up_code_011  rolled_up_code_012  ...  category_Consult  \\\n",
            "0                        0                   0  ...                 0   \n",
            "1                        0                   0  ...                 0   \n",
            "2                        0                   0  ...                 0   \n",
            "3                        0                   0  ...                 0   \n",
            "4                        0                   0  ...                 0   \n",
            "...                    ...                 ...  ...               ...   \n",
            "239200                   0                   0  ...                 0   \n",
            "239201                   0                   0  ...                 0   \n",
            "239202                   0                   0  ...                 0   \n",
            "239203                   0                   0  ...                 0   \n",
            "239204                   0                   0  ...                 0   \n",
            "\n",
            "        category_General  category_Nursing  category_Nursing/other  \\\n",
            "0                      0                 1                       0   \n",
            "1                      0                 0                       0   \n",
            "2                      0                 1                       0   \n",
            "3                      0                 1                       0   \n",
            "4                      0                 1                       0   \n",
            "...                  ...               ...                     ...   \n",
            "239200                 0                 1                       0   \n",
            "239201                 0                 1                       0   \n",
            "239202                 0                 1                       0   \n",
            "239203                 0                 0                       1   \n",
            "239204                 0                 0                       1   \n",
            "\n",
            "        category_Nutrition  category_Pharmacy  category_Physician  \\\n",
            "0                        0                  0                   0   \n",
            "1                        1                  0                   0   \n",
            "2                        0                  0                   0   \n",
            "3                        0                  0                   0   \n",
            "4                        0                  0                   0   \n",
            "...                    ...                ...                 ...   \n",
            "239200                   0                  0                   0   \n",
            "239201                   0                  0                   0   \n",
            "239202                   0                  0                   0   \n",
            "239203                   0                  0                   0   \n",
            "239204                   0                  0                   0   \n",
            "\n",
            "        category_Rehab Services  category_Respiratory  category_Social Work  \n",
            "0                             0                     0                     0  \n",
            "1                             0                     0                     0  \n",
            "2                             0                     0                     0  \n",
            "3                             0                     0                     0  \n",
            "4                             0                     0                     0  \n",
            "...                         ...                   ...                   ...  \n",
            "239200                        0                     0                     0  \n",
            "239201                        0                     0                     0  \n",
            "239202                        0                     0                     0  \n",
            "239203                        0                     0                     0  \n",
            "239204                        0                     0                     0  \n",
            "\n",
            "[239205 rows x 749 columns]\n"
          ]
        },
        {
          "name": "stderr",
          "output_type": "stream",
          "text": [
            "C:\\Users\\pengz3\\AppData\\Local\\Temp/ipykernel_18820/1487981942.py:5: PerformanceWarning: DataFrame is highly fragmented.  This is usually the result of calling `frame.insert` many times, which has poor performance.  Consider joining all columns at once using pd.concat(axis=1) instead.  To get a de-fragmented frame, use `newframe = frame.copy()`\n",
            "  rolled_up_notes['category_' + item.rstrip()] = np.where(notes['CATEGORY'] == item , 1, 0)\n"
          ]
        }
      ],
      "source": [
        "rolled_up_notes = notes[['TEXT']]\n",
        "for item in rolled_up_unique_list:\n",
        "  rolled_up_notes['rolled_up_code_' + item.rstrip()] = np.where(notes['rolled_up_icd_codes'].str.contains(pat = item), 1, 0)\n",
        "for item in category_unique_list:\n",
        "  rolled_up_notes['category_' + item.rstrip()] = np.where(notes['CATEGORY'] == item , 1, 0)\n",
        "print(rolled_up_notes)"
      ]
    },
    {
      "cell_type": "code",
      "execution_count": null,
      "metadata": {
        "id": "1Kg2WTE_sACw"
      },
      "outputs": [],
      "source": [
        "column_dict_10000 = {\n",
        "    'category_Nursing/other':4505,\n",
        "    'category_Nursing':2886,\n",
        "    'category_Physician':1838,\n",
        "    'category_Respiratory':428,\n",
        "    'category_Nutrition':125,\n",
        "    'category_General':110,\n",
        "    'category_Rehab Services':66,\n",
        "    'category_Social Work':26,\n",
        "    'category_Case Management':14,\n",
        "    'category_Consult':1,\n",
        "    'category_Pharmacy':1,\n",
        "}"
      ]
    },
    {
      "cell_type": "code",
      "execution_count": null,
      "metadata": {
        "id": "Fm3STc38sACw"
      },
      "outputs": [],
      "source": [
        "column_dict_20000 = {\n",
        "    'category_Nursing/other':9009,\n",
        "    'category_Nursing':5771,\n",
        "    'category_Physician':3676,\n",
        "    'category_Respiratory':856,\n",
        "    'category_Nutrition':250,\n",
        "    'category_General':220,\n",
        "    'category_Rehab Services':132,\n",
        "    'category_Social Work':53,\n",
        "    'category_Case Management':28,\n",
        "    'category_Consult':3,\n",
        "    'category_Pharmacy':2,\n",
        "}"
      ]
    },
    {
      "cell_type": "code",
      "execution_count": null,
      "metadata": {
        "id": "ByYlGVKssACx",
        "outputId": "edbf2129-7e1f-4de7-b0c4-dd6ec540dfa0"
      },
      "outputs": [
        {
          "name": "stdout",
          "output_type": "stream",
          "text": [
            "                                                    TEXT  rolled_up_code_003  \\\n",
            "41     ccu nursing progress notepls see transfer summ...                   0   \n",
            "42     nursing progress notes month only i have some ...                   0   \n",
            "43     respiratory care pt extubated to a aerosol avr...                   0   \n",
            "44     respiratory care patient remains on cpap psv v...                   0   \n",
            "45     repeat k hct due post blood transfusion lactol...                   0   \n",
            "...                                                  ...                 ...   \n",
            "4889   title cardiology follow up events patient note...                   0   \n",
            "5500   consult requested by ccu team chief complaint ...                   0   \n",
            "5517   consult requested by ccu team chief complaint ...                   0   \n",
            "3652   pharmacy note digibind dose assessment pharmac...                   0   \n",
            "24951  pharmacy note sedation assessment mr known las...                   0   \n",
            "\n",
            "       rolled_up_code_004  rolled_up_code_005  rolled_up_code_007  \\\n",
            "41                      0                   0                   0   \n",
            "42                      0                   0                   0   \n",
            "43                      0                   0                   0   \n",
            "44                      0                   0                   0   \n",
            "45                      0                   0                   0   \n",
            "...                   ...                 ...                 ...   \n",
            "4889                    0                   0                   0   \n",
            "5500                    0                   0                   0   \n",
            "5517                    0                   0                   0   \n",
            "3652                    0                   0                   0   \n",
            "24951                   0                   0                   0   \n",
            "\n",
            "       rolled_up_code_008  rolled_up_code_009  rolled_up_code_010  \\\n",
            "41                      0                   0                   0   \n",
            "42                      0                   0                   0   \n",
            "43                      0                   0                   0   \n",
            "44                      0                   0                   0   \n",
            "45                      0                   0                   0   \n",
            "...                   ...                 ...                 ...   \n",
            "4889                    0                   0                   0   \n",
            "5500                    0                   0                   0   \n",
            "5517                    0                   0                   0   \n",
            "3652                    0                   0                   0   \n",
            "24951                   0                   0                   0   \n",
            "\n",
            "       rolled_up_code_011  rolled_up_code_012  ...  category_Consult  \\\n",
            "41                      0                   0  ...                 0   \n",
            "42                      0                   0  ...                 0   \n",
            "43                      0                   0  ...                 0   \n",
            "44                      0                   0  ...                 0   \n",
            "45                      0                   0  ...                 0   \n",
            "...                   ...                 ...  ...               ...   \n",
            "4889                    0                   0  ...                 1   \n",
            "5500                    0                   0  ...                 1   \n",
            "5517                    0                   0  ...                 1   \n",
            "3652                    0                   0  ...                 0   \n",
            "24951                   0                   0  ...                 0   \n",
            "\n",
            "       category_General  category_Nursing  category_Nursing/other  \\\n",
            "41                    0                 0                       1   \n",
            "42                    0                 0                       1   \n",
            "43                    0                 0                       1   \n",
            "44                    0                 0                       1   \n",
            "45                    0                 0                       1   \n",
            "...                 ...               ...                     ...   \n",
            "4889                  0                 0                       0   \n",
            "5500                  0                 0                       0   \n",
            "5517                  0                 0                       0   \n",
            "3652                  0                 0                       0   \n",
            "24951                 0                 0                       0   \n",
            "\n",
            "       category_Nutrition  category_Pharmacy  category_Physician  \\\n",
            "41                      0                  0                   0   \n",
            "42                      0                  0                   0   \n",
            "43                      0                  0                   0   \n",
            "44                      0                  0                   0   \n",
            "45                      0                  0                   0   \n",
            "...                   ...                ...                 ...   \n",
            "4889                    0                  0                   0   \n",
            "5500                    0                  0                   0   \n",
            "5517                    0                  0                   0   \n",
            "3652                    0                  1                   0   \n",
            "24951                   0                  1                   0   \n",
            "\n",
            "       category_Rehab Services  category_Respiratory  category_Social Work  \n",
            "41                           0                     0                     0  \n",
            "42                           0                     0                     0  \n",
            "43                           0                     0                     0  \n",
            "44                           0                     0                     0  \n",
            "45                           0                     0                     0  \n",
            "...                        ...                   ...                   ...  \n",
            "4889                         0                     0                     0  \n",
            "5500                         0                     0                     0  \n",
            "5517                         0                     0                     0  \n",
            "3652                         0                     0                     0  \n",
            "24951                        0                     0                     0  \n",
            "\n",
            "[20000 rows x 749 columns]\n"
          ]
        }
      ],
      "source": [
        "#save 10000 or 20000 rolled up icd records\n",
        "preprocessed_rolled_up_notes = rolled_up_notes.loc[rolled_up_notes['category_Nursing/other']==1].head(column_dict_20000['category_Nursing/other'])\n",
        "for key in column_dict_20000:\n",
        "    if key != 'category_Nursing/other':\n",
        "        preprocessed_rolled_up_notes = preprocessed_rolled_up_notes.append(rolled_up_notes.loc[rolled_up_notes[key]==1].head(column_dict_20000[key]))\n",
        "print(preprocessed_rolled_up_notes)"
      ]
    },
    {
      "cell_type": "code",
      "execution_count": null,
      "metadata": {
        "id": "nQqZjZGcsACx"
      },
      "outputs": [],
      "source": [
        "preprocessed_rolled_up_notes.loc[:,'category_Nursing/other']=preprocessed_rolled_up_notes.loc[:,'category_Nursing/other']+preprocessed_rolled_up_notes.loc[:,'category_Nursing']\n",
        "preprocessed_rolled_up_notes.drop('category_Nursing', axis=1, inplace=True)"
      ]
    },
    {
      "cell_type": "code",
      "execution_count": null,
      "metadata": {
        "id": "uiIaIQeIsACx"
      },
      "outputs": [],
      "source": [
        "preprocessed_rolled_up_notes=preprocessed_rolled_up_notes.loc[:,(preprocessed_rolled_up_notes!=0).any(axis=0)]"
      ]
    },
    {
      "cell_type": "code",
      "execution_count": null,
      "metadata": {
        "id": "tBKTzhFWsACy",
        "outputId": "54472cd2-39ab-44fb-fe1a-8b6f808f9c29"
      },
      "outputs": [
        {
          "name": "stdout",
          "output_type": "stream",
          "text": [
            "                                                    TEXT  rolled_up_code_008  \\\n",
            "41     ccu nursing progress notepls see transfer summ...                   0   \n",
            "42     nursing progress notes month only i have some ...                   0   \n",
            "43     respiratory care pt extubated to a aerosol avr...                   0   \n",
            "44     respiratory care patient remains on cpap psv v...                   0   \n",
            "45     repeat k hct due post blood transfusion lactol...                   0   \n",
            "...                                                  ...                 ...   \n",
            "4889   title cardiology follow up events patient note...                   0   \n",
            "5500   consult requested by ccu team chief complaint ...                   0   \n",
            "5517   consult requested by ccu team chief complaint ...                   0   \n",
            "3652   pharmacy note digibind dose assessment pharmac...                   0   \n",
            "24951  pharmacy note sedation assessment mr known las...                   0   \n",
            "\n",
            "       rolled_up_code_009  rolled_up_code_010  rolled_up_code_038  \\\n",
            "41                      0                   0                   0   \n",
            "42                      0                   0                   0   \n",
            "43                      0                   0                   0   \n",
            "44                      0                   0                   0   \n",
            "45                      0                   0                   0   \n",
            "...                   ...                 ...                 ...   \n",
            "4889                    0                   0                   0   \n",
            "5500                    0                   0                   0   \n",
            "5517                    0                   0                   0   \n",
            "3652                    0                   0                   1   \n",
            "24951                   0                   0                   1   \n",
            "\n",
            "       rolled_up_code_041  rolled_up_code_042  rolled_up_code_053  \\\n",
            "41                      0                   0                   0   \n",
            "42                      0                   0                   0   \n",
            "43                      0                   0                   0   \n",
            "44                      0                   0                   0   \n",
            "45                      0                   0                   0   \n",
            "...                   ...                 ...                 ...   \n",
            "4889                    0                   0                   0   \n",
            "5500                    0                   0                   0   \n",
            "5517                    0                   0                   0   \n",
            "3652                    0                   0                   0   \n",
            "24951                   0                   0                   0   \n",
            "\n",
            "       rolled_up_code_054  rolled_up_code_070  ...  category_Case Management  \\\n",
            "41                      0                   0  ...                         0   \n",
            "42                      0                   0  ...                         0   \n",
            "43                      0                   0  ...                         0   \n",
            "44                      0                   0  ...                         0   \n",
            "45                      0                   0  ...                         0   \n",
            "...                   ...                 ...  ...                       ...   \n",
            "4889                    0                   0  ...                         0   \n",
            "5500                    0                   0  ...                         0   \n",
            "5517                    0                   0  ...                         0   \n",
            "3652                    0                   0  ...                         0   \n",
            "24951                   0                   0  ...                         0   \n",
            "\n",
            "       category_Consult  category_General  category_Nursing/other  \\\n",
            "41                    0                 0                       1   \n",
            "42                    0                 0                       1   \n",
            "43                    0                 0                       1   \n",
            "44                    0                 0                       1   \n",
            "45                    0                 0                       1   \n",
            "...                 ...               ...                     ...   \n",
            "4889                  1                 0                       0   \n",
            "5500                  1                 0                       0   \n",
            "5517                  1                 0                       0   \n",
            "3652                  0                 0                       0   \n",
            "24951                 0                 0                       0   \n",
            "\n",
            "       category_Nutrition  category_Pharmacy  category_Physician  \\\n",
            "41                      0                  0                   0   \n",
            "42                      0                  0                   0   \n",
            "43                      0                  0                   0   \n",
            "44                      0                  0                   0   \n",
            "45                      0                  0                   0   \n",
            "...                   ...                ...                 ...   \n",
            "4889                    0                  0                   0   \n",
            "5500                    0                  0                   0   \n",
            "5517                    0                  0                   0   \n",
            "3652                    0                  1                   0   \n",
            "24951                   0                  1                   0   \n",
            "\n",
            "       category_Rehab Services  category_Respiratory  category_Social Work  \n",
            "41                           0                     0                     0  \n",
            "42                           0                     0                     0  \n",
            "43                           0                     0                     0  \n",
            "44                           0                     0                     0  \n",
            "45                           0                     0                     0  \n",
            "...                        ...                   ...                   ...  \n",
            "4889                         0                     0                     0  \n",
            "5500                         0                     0                     0  \n",
            "5517                         0                     0                     0  \n",
            "3652                         0                     0                     0  \n",
            "24951                        0                     0                     0  \n",
            "\n",
            "[20000 rows x 455 columns]\n"
          ]
        }
      ],
      "source": [
        "print(preprocessed_rolled_up_notes)"
      ]
    },
    {
      "cell_type": "code",
      "execution_count": null,
      "metadata": {
        "id": "PuM3L-yBha2_"
      },
      "outputs": [],
      "source": [
        "preprocessed_rolled_up_notes.to_csv(r'C:\\Users\\pengz3\\Downloads\\preprocessed_rolled_up_icd_codes_20000.csv')"
      ]
    },
    {
      "cell_type": "code",
      "execution_count": null,
      "metadata": {
        "id": "l_h0Mt10sACy",
        "outputId": "3d2ac338-ad9d-4b51-d418-68c763d50aad"
      },
      "outputs": [
        {
          "name": "stdout",
          "output_type": "stream",
          "text": [
            "(20000, 1545)\n",
            "                                                    TEXT  reg_code_00845  \\\n",
            "41     ccu nursing progress notepls see transfer summ...               0   \n",
            "42     nursing progress notes month only i have some ...               0   \n",
            "43     respiratory care pt extubated to a aerosol avr...               0   \n",
            "44     respiratory care patient remains on cpap psv v...               0   \n",
            "45     repeat k hct due post blood transfusion lactol...               0   \n",
            "...                                                  ...             ...   \n",
            "4889   title cardiology follow up events patient note...               0   \n",
            "5500   consult requested by ccu team chief complaint ...               0   \n",
            "5517   consult requested by ccu team chief complaint ...               0   \n",
            "3652   pharmacy note digibind dose assessment pharmac...               0   \n",
            "24951  pharmacy note sedation assessment mr known las...               0   \n",
            "\n",
            "       reg_code_00869  reg_code_0088  reg_code_0090  reg_code_0091  \\\n",
            "41                  0              0              0              0   \n",
            "42                  0              0              0              0   \n",
            "43                  0              0              0              0   \n",
            "44                  0              0              0              0   \n",
            "45                  0              0              0              0   \n",
            "...               ...            ...            ...            ...   \n",
            "4889                0              0              0              0   \n",
            "5500                0              0              0              0   \n",
            "5517                0              0              0              0   \n",
            "3652                0              0              0              0   \n",
            "24951               0              0              0              0   \n",
            "\n",
            "       reg_code_01085  reg_code_0311  reg_code_0380  reg_code_03811  ...  \\\n",
            "41                  0              0              0               0  ...   \n",
            "42                  0              0              0               0  ...   \n",
            "43                  0              0              0               0  ...   \n",
            "44                  0              0              0               0  ...   \n",
            "45                  0              0              0               0  ...   \n",
            "...               ...            ...            ...             ...  ...   \n",
            "4889                0              0              0               0  ...   \n",
            "5500                0              0              0               0  ...   \n",
            "5517                0              0              0               0  ...   \n",
            "3652                0              0              0               0  ...   \n",
            "24951               0              0              0               0  ...   \n",
            "\n",
            "       category_Consult  category_General  category_Nursing  \\\n",
            "41                    0                 0                 0   \n",
            "42                    0                 0                 0   \n",
            "43                    0                 0                 0   \n",
            "44                    0                 0                 0   \n",
            "45                    0                 0                 0   \n",
            "...                 ...               ...               ...   \n",
            "4889                  1                 0                 0   \n",
            "5500                  1                 0                 0   \n",
            "5517                  1                 0                 0   \n",
            "3652                  0                 0                 0   \n",
            "24951                 0                 0                 0   \n",
            "\n",
            "       category_Nursing/other  category_Nutrition  category_Pharmacy  \\\n",
            "41                          1                   0                  0   \n",
            "42                          1                   0                  0   \n",
            "43                          1                   0                  0   \n",
            "44                          1                   0                  0   \n",
            "45                          1                   0                  0   \n",
            "...                       ...                 ...                ...   \n",
            "4889                        0                   0                  0   \n",
            "5500                        0                   0                  0   \n",
            "5517                        0                   0                  0   \n",
            "3652                        0                   0                  1   \n",
            "24951                       0                   0                  1   \n",
            "\n",
            "       category_Physician  category_Rehab Services  category_Respiratory  \\\n",
            "41                      0                        0                     0   \n",
            "42                      0                        0                     0   \n",
            "43                      0                        0                     0   \n",
            "44                      0                        0                     0   \n",
            "45                      0                        0                     0   \n",
            "...                   ...                      ...                   ...   \n",
            "4889                    0                        0                     0   \n",
            "5500                    0                        0                     0   \n",
            "5517                    0                        0                     0   \n",
            "3652                    0                        0                     0   \n",
            "24951                   0                        0                     0   \n",
            "\n",
            "       category_Social Work  \n",
            "41                        0  \n",
            "42                        0  \n",
            "43                        0  \n",
            "44                        0  \n",
            "45                        0  \n",
            "...                     ...  \n",
            "4889                      0  \n",
            "5500                      0  \n",
            "5517                      0  \n",
            "3652                      0  \n",
            "24951                     0  \n",
            "\n",
            "[20000 rows x 1545 columns]\n"
          ]
        }
      ],
      "source": [
        "#save 10000 or 20000 regular icd records\n",
        "preprocessed_reg_notes = reg_notes.loc[reg_notes['category_Nursing/other']==1].head(column_dict_20000['category_Nursing/other'])\n",
        "for key in column_dict_20000:\n",
        "    if key != 'category_Nursing/other':\n",
        "        preprocessed_reg_notes = preprocessed_reg_notes.append(reg_notes.loc[reg_notes[key]==1].head(column_dict_20000[key]))\n",
        "preprocessed_reg_notes=preprocessed_reg_notes.loc[:,(preprocessed_reg_notes!=0).any(axis=0)]\n",
        "print(preprocessed_reg_notes.shape)\n",
        "print(preprocessed_reg_notes)"
      ]
    },
    {
      "cell_type": "code",
      "execution_count": null,
      "metadata": {
        "id": "gKGUENoBsACy"
      },
      "outputs": [],
      "source": [
        "preprocessed_reg_notes.loc[:,'category_Nursing/other']=preprocessed_reg_notes.loc[:,'category_Nursing/other']+preprocessed_reg_notes.loc[:,'category_Nursing']\n",
        "preprocessed_reg_notes.drop('category_Nursing', axis=1, inplace=True)\n",
        "preprocessed_reg_notes=preprocessed_reg_notes.loc[:,(preprocessed_reg_notes!=0).any(axis=0)]"
      ]
    },
    {
      "cell_type": "code",
      "execution_count": null,
      "metadata": {
        "id": "j-_uA3NWsACy",
        "outputId": "4722ed4d-8178-4c49-f29b-563b6d029519"
      },
      "outputs": [
        {
          "name": "stdout",
          "output_type": "stream",
          "text": [
            "                                                    TEXT  reg_code_00845  \\\n",
            "41     ccu nursing progress notepls see transfer summ...               0   \n",
            "42     nursing progress notes month only i have some ...               0   \n",
            "43     respiratory care pt extubated to a aerosol avr...               0   \n",
            "44     respiratory care patient remains on cpap psv v...               0   \n",
            "45     repeat k hct due post blood transfusion lactol...               0   \n",
            "...                                                  ...             ...   \n",
            "4889   title cardiology follow up events patient note...               0   \n",
            "5500   consult requested by ccu team chief complaint ...               0   \n",
            "5517   consult requested by ccu team chief complaint ...               0   \n",
            "3652   pharmacy note digibind dose assessment pharmac...               0   \n",
            "24951  pharmacy note sedation assessment mr known las...               0   \n",
            "\n",
            "       reg_code_00869  reg_code_0088  reg_code_0090  reg_code_0091  \\\n",
            "41                  0              0              0              0   \n",
            "42                  0              0              0              0   \n",
            "43                  0              0              0              0   \n",
            "44                  0              0              0              0   \n",
            "45                  0              0              0              0   \n",
            "...               ...            ...            ...            ...   \n",
            "4889                0              0              0              0   \n",
            "5500                0              0              0              0   \n",
            "5517                0              0              0              0   \n",
            "3652                0              0              0              0   \n",
            "24951               0              0              0              0   \n",
            "\n",
            "       reg_code_01085  reg_code_0311  reg_code_0380  reg_code_03811  ...  \\\n",
            "41                  0              0              0               0  ...   \n",
            "42                  0              0              0               0  ...   \n",
            "43                  0              0              0               0  ...   \n",
            "44                  0              0              0               0  ...   \n",
            "45                  0              0              0               0  ...   \n",
            "...               ...            ...            ...             ...  ...   \n",
            "4889                0              0              0               0  ...   \n",
            "5500                0              0              0               0  ...   \n",
            "5517                0              0              0               0  ...   \n",
            "3652                0              0              0               0  ...   \n",
            "24951               0              0              0               0  ...   \n",
            "\n",
            "       category_Case Management  category_Consult  category_General  \\\n",
            "41                            0                 0                 0   \n",
            "42                            0                 0                 0   \n",
            "43                            0                 0                 0   \n",
            "44                            0                 0                 0   \n",
            "45                            0                 0                 0   \n",
            "...                         ...               ...               ...   \n",
            "4889                          0                 1                 0   \n",
            "5500                          0                 1                 0   \n",
            "5517                          0                 1                 0   \n",
            "3652                          0                 0                 0   \n",
            "24951                         0                 0                 0   \n",
            "\n",
            "       category_Nursing/other  category_Nutrition  category_Pharmacy  \\\n",
            "41                          1                   0                  0   \n",
            "42                          1                   0                  0   \n",
            "43                          1                   0                  0   \n",
            "44                          1                   0                  0   \n",
            "45                          1                   0                  0   \n",
            "...                       ...                 ...                ...   \n",
            "4889                        0                   0                  0   \n",
            "5500                        0                   0                  0   \n",
            "5517                        0                   0                  0   \n",
            "3652                        0                   0                  1   \n",
            "24951                       0                   0                  1   \n",
            "\n",
            "       category_Physician  category_Rehab Services  category_Respiratory  \\\n",
            "41                      0                        0                     0   \n",
            "42                      0                        0                     0   \n",
            "43                      0                        0                     0   \n",
            "44                      0                        0                     0   \n",
            "45                      0                        0                     0   \n",
            "...                   ...                      ...                   ...   \n",
            "4889                    0                        0                     0   \n",
            "5500                    0                        0                     0   \n",
            "5517                    0                        0                     0   \n",
            "3652                    0                        0                     0   \n",
            "24951                   0                        0                     0   \n",
            "\n",
            "       category_Social Work  \n",
            "41                        0  \n",
            "42                        0  \n",
            "43                        0  \n",
            "44                        0  \n",
            "45                        0  \n",
            "...                     ...  \n",
            "4889                      0  \n",
            "5500                      0  \n",
            "5517                      0  \n",
            "3652                      0  \n",
            "24951                     0  \n",
            "\n",
            "[20000 rows x 1544 columns]\n"
          ]
        }
      ],
      "source": [
        "print(preprocessed_reg_notes)"
      ]
    },
    {
      "cell_type": "code",
      "execution_count": null,
      "metadata": {
        "id": "uT0HPLKvsACy"
      },
      "outputs": [],
      "source": [
        "preprocessed_reg_notes.to_csv(r'C:\\Users\\pengz3\\Downloads\\preprocessed_reg_icd_codes_20000.csv')"
      ]
    },
    {
      "cell_type": "code",
      "execution_count": null,
      "metadata": {
        "id": "wr0eX5UgsACz"
      },
      "outputs": [],
      "source": [
        "from statistics import mean\n",
        "tokens_count = []\n",
        "for item in notes['tokens']:\n",
        "    item_set = set(item)\n",
        "    tokens_count.append(len(item_set))\n",
        "print(mean(tokens_count))"
      ]
    },
    {
      "cell_type": "code",
      "execution_count": null,
      "metadata": {
        "id": "xxN9yfKcsACz"
      },
      "outputs": [],
      "source": [
        ""
      ]
    }
  ],
  "metadata": {
    "colab": {
      "collapsed_sections": [],
      "machine_shape": "hm",
      "name": "preprocessing_data.ipynb",
      "provenance": [],
      "include_colab_link": true
    },
    "kernelspec": {
      "display_name": "Python 3 (ipykernel)",
      "language": "python",
      "name": "python3"
    },
    "language_info": {
      "codemirror_mode": {
        "name": "ipython",
        "version": 3
      },
      "file_extension": ".py",
      "mimetype": "text/x-python",
      "name": "python",
      "nbconvert_exporter": "python",
      "pygments_lexer": "ipython3",
      "version": "3.9.7"
    }
  },
  "nbformat": 4,
  "nbformat_minor": 0
}