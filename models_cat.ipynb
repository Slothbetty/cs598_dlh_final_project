{
  "nbformat": 4,
  "nbformat_minor": 0,
  "metadata": {
    "colab": {
      "name": "models_cat.ipynb",
      "provenance": [],
      "collapsed_sections": [],
      "include_colab_link": true
    },
    "kernelspec": {
      "name": "python3",
      "display_name": "Python 3"
    },
    "language_info": {
      "name": "python"
    }
  },
  "cells": [
    {
      "cell_type": "markdown",
      "metadata": {
        "id": "view-in-github",
        "colab_type": "text"
      },
      "source": [
        "<a href=\"https://colab.research.google.com/github/bzhao10/cs598_dlh_final_project/blob/main/models_cat.ipynb\" target=\"_parent\"><img src=\"https://colab.research.google.com/assets/colab-badge.svg\" alt=\"Open In Colab\"/></a>"
      ]
    },
    {
      "cell_type": "code",
      "execution_count": null,
      "metadata": {
        "colab": {
          "base_uri": "https://localhost:8080/"
        },
        "id": "TAgJKsPOQGdy",
        "outputId": "6aa347c0-7a2f-4599-9186-631cd0b74700"
      },
      "outputs": [
        {
          "output_type": "stream",
          "name": "stdout",
          "text": [
            "Mounted at /content/drive\n"
          ]
        }
      ],
      "source": [
        "from google.colab import drive\n",
        "drive.mount('/content/drive')"
      ]
    },
    {
      "cell_type": "code",
      "source": [
        "import pandas as pd\n",
        "notes=pd.read_csv('/content/drive/MyDrive/DLH_final_project_dataset/preprocessed_reg_icd_codes_10000.csv')\n",
        "notes.columns"
      ],
      "metadata": {
        "colab": {
          "base_uri": "https://localhost:8080/"
        },
        "id": "zveoIxFQQN9o",
        "outputId": "f0675edc-9a00-4282-dbff-a86f630a969c"
      },
      "execution_count": null,
      "outputs": [
        {
          "output_type": "execute_result",
          "data": {
            "text/plain": [
              "Index(['Unnamed: 0', 'TEXT', 'reg_code_00845', 'reg_code_0088',\n",
              "       'reg_code_0090', 'reg_code_0091', 'reg_code_01085', 'reg_code_0311',\n",
              "       'reg_code_0380', 'reg_code_03811',\n",
              "       ...\n",
              "       'category_Case Management', 'category_Consult', 'category_General',\n",
              "       'category_Nursing/other', 'category_Nutrition', 'category_Pharmacy',\n",
              "       'category_Physician', 'category_Rehab Services', 'category_Respiratory',\n",
              "       'category_Social Work'],\n",
              "      dtype='object', length=1166)"
            ]
          },
          "metadata": {},
          "execution_count": 2
        }
      ]
    },
    {
      "cell_type": "code",
      "source": [
        "reg_codes_list = notes.loc[:, notes.columns.str.startswith('reg_code_')].columns.tolist()\n",
        "print(len(reg_codes_list))\n"
      ],
      "metadata": {
        "id": "CaQyU-2HiT6r",
        "colab": {
          "base_uri": "https://localhost:8080/"
        },
        "outputId": "93512cac-411b-40b3-84e1-396eaf209057"
      },
      "execution_count": null,
      "outputs": [
        {
          "output_type": "stream",
          "name": "stdout",
          "text": [
            "1154\n"
          ]
        }
      ]
    },
    {
      "cell_type": "code",
      "source": [
        "rolled_up_codes_list=['rolled_up_code_518','rolled_up_code_427','rolled_up_code_584','rolled_up_code_428','rolled_up_code_276','rolled_up_code_401','rolled_up_code_285','rolled_up_code_414','rolled_up_code_272','rolled_up_code_038']"
      ],
      "metadata": {
        "id": "MDscFnWujoj-"
      },
      "execution_count": null,
      "outputs": []
    },
    {
      "cell_type": "code",
      "source": [
        "pd.value_counts(notes.rolled_up_code_518)"
      ],
      "metadata": {
        "colab": {
          "base_uri": "https://localhost:8080/"
        },
        "id": "mx8qcDeFcdoP",
        "outputId": "86d3ae47-5d35-40d9-c9dc-fb180131f785"
      },
      "execution_count": null,
      "outputs": [
        {
          "output_type": "execute_result",
          "data": {
            "text/plain": [
              "1    5575\n",
              "0    4425\n",
              "Name: rolled_up_code_518, dtype: int64"
            ]
          },
          "metadata": {},
          "execution_count": 20
        }
      ]
    },
    {
      "cell_type": "code",
      "source": [
        "note.to_csv('/content/drive/MyDrive/DLH_final_project_dataset/preprocessed_rolled_up_icd_codes_10000.csv')"
      ],
      "metadata": {
        "id": "UhoOpW5Dib2P"
      },
      "execution_count": null,
      "outputs": []
    },
    {
      "cell_type": "code",
      "source": [
        "# add category\n",
        "import re\n",
        "import nltk\n",
        "import numpy as np\n",
        "import pandas as pd\n",
        "from sklearn.model_selection import train_test_split\n",
        "from nltk.tokenize import word_tokenize\n",
        "from nltk import word_tokenize\n",
        "nltk.download('punkt')\n",
        "class Preprocessing:\n",
        "  def __init__(self, num_words, seq_len,category,target,binary=True):\n",
        "    self.data = '/content/drive/MyDrive/DLH_final_project_dataset/preprocessed_reg_icd_codes_10000.csv'\n",
        "    self.num_words = num_words\n",
        "    self.seq_len = seq_len\n",
        "    self.vocabulary = None\n",
        "    self.x_tokenized = None\n",
        "    self.x_padded = None\n",
        "    self.x_raw = None\n",
        "    self.y = None\n",
        "    \n",
        "    self.x_train = None\n",
        "    self.x_test = None\n",
        "    self.y_train = None\n",
        "    self.y_test = None\n",
        "    \n",
        "    self.target=target\n",
        "    self.category=category\n",
        "  def load_data(self,binary):\n",
        "    # Reads the raw csv file and split into\n",
        "    # sentences (x) and target (y)\n",
        "    df = pd.read_csv(self.data)\n",
        "    #df.drop(['id','keyword','location'], axis=1, inplace=True)\n",
        "    self.x_raw = df['TEXT'].values\n",
        "    if (binary==False):\n",
        "      #df['rolled_up_codes'] = df.loc[:, 'rolled_up_code_008':'rolled_up_code_V88'].values.tolist()\n",
        "      #rolled_up_codes_list=['rolled_up_code_518','rolled_up_code_427','rolled_up_code_584','rolled_up_code_428','rolled_up_code_276',\n",
        "                            #'rolled_up_code_401','rolled_up_code_285','rolled_up_code_414','rolled_up_code_272','rolled_up_code_038']\n",
        "      #df['rolled_up_codes'] = df.loc[:, rolled_up_codes_list].values.tolist()\n",
        "      #rolled_up_codes_list = notes.loc[:, notes.columns.str.startswith('rolled_up_code_')].columns.tolist()\n",
        "      #df['rolled_up_codes'] = df.loc[:, rolled_up_codes_list[0]:rolled_up_codes_list[len(rolled_up_codes_list)-1]].values.tolist()\n",
        "      #self.y = df['rolled_up_codes'].values\n",
        "      reg_codes_list = notes.loc[:, notes.columns.str.startswith('reg_code_')].columns.tolist()\n",
        "      df['reg_codes'] = df.loc[:, reg_codes_list[0]:reg_codes_list[len(reg_codes_list)-1]].values.tolist()\n",
        "      self.y = df['reg_codes'].values\n",
        "    else:\n",
        "      self.y = df[self.target].values\n",
        "   \n",
        "    self.cat=df[self.category].values\n",
        "  '''\n",
        "  def clean_text(self):\n",
        "    # Removes special symbols and just keep\n",
        "    # words in lower or upper form\n",
        "    self.x_raw = [x.lower() for x in self.x_raw]\n",
        "    self.x_raw = [re.sub(r'[^A-Za-z]+', ' ', x) for x in self.x_raw]\n",
        "  '''  \n",
        "  def text_tokenization(self):\n",
        "    # Tokenizes each sentence by implementing the nltk tool\n",
        "    self.x_raw = [word_tokenize(x) for x in self.x_raw]\n",
        "    \n",
        "  def build_vocabulary(self):\n",
        "    # Builds the vocabulary and keeps the \"x\" most frequent word\n",
        "    self.vocabulary = dict()\n",
        "    fdist = nltk.FreqDist()\n",
        "    \n",
        "    for sentence in self.x_raw:\n",
        "      for word in sentence:\n",
        "        fdist[word] += 1\n",
        "        \n",
        "    common_words = fdist.most_common(self.num_words)\n",
        "    \n",
        "    for idx, word in enumerate(common_words):\n",
        "      self.vocabulary[word[0]] = (idx+1)\n",
        "  \n",
        "  def word_to_idx(self):\n",
        "    # By using the dictionary (vocabulary), it is transformed\n",
        "    # each token into its index based representatio\n",
        "    self.x_tokenized = list() \n",
        "    \n",
        "    for sentence in self.x_raw:\n",
        "      temp_sentence = list()\n",
        "      for word in sentence:\n",
        "        if word in self.vocabulary.keys():\n",
        "          temp_sentence.append(self.vocabulary[word])\n",
        "      self.x_tokenized.append(temp_sentence)\n",
        "      \n",
        "  def padding_sentences(self):\n",
        "    # Each sentence which does not fulfill the required le\n",
        "    # it's padded with the index 0\n",
        "    pad_idx = 0\n",
        "    self.x_padded = list()\n",
        "    \n",
        "    for sentence in self.x_tokenized:\n",
        "      while len(sentence) < self.seq_len:\n",
        "        sentence.insert(len(sentence), pad_idx)\n",
        "      self.x_padded.append(sentence)\n",
        " \n",
        "    self.x_padded = np.array(self.x_padded)\n",
        "    self.cat=self.cat.reshape(-1,1)\n",
        "    self.x_padded=np.append(self.x_padded,self.cat,1)\n",
        "  def split_data(self):\n",
        "    self.x_train, self.x_test, self.y_train, self.y_test = train_test_split(self.x_padded, self.y, test_size=0.25, random_state=42)"
      ],
      "metadata": {
        "colab": {
          "base_uri": "https://localhost:8080/"
        },
        "outputId": "c211a08b-cc2a-4063-eb13-edca0f2c836c",
        "id": "bcQTOu75iofL"
      },
      "execution_count": null,
      "outputs": [
        {
          "output_type": "stream",
          "name": "stdout",
          "text": [
            "[nltk_data] Downloading package punkt to /root/nltk_data...\n",
            "[nltk_data]   Unzipping tokenizers/punkt.zip.\n"
          ]
        }
      ]
    },
    {
      "cell_type": "code",
      "source": [
        "def prepare_data(num_words, seq_len,category,target,binary=True):\n",
        "  # Preprocessing pipeline\n",
        "  pr = Preprocessing(num_words, seq_len,category,target,binary)\n",
        "  pr.load_data(binary)\n",
        "  #pr.clean_text()\n",
        "  pr.text_tokenization()\n",
        "  pr.build_vocabulary()\n",
        "  pr.word_to_idx()\n",
        "  pr.padding_sentences()\n",
        "  pr.split_data()\n",
        "\n",
        "  return {'x_train': pr.x_train, 'y_train': pr.y_train, 'x_test': pr.x_test, 'y_test': pr.y_test}\n",
        "\n",
        "#data=prepare_data(45173, 2200,'category_Nursing/other','rolled_up_code_038',binary=True)\n",
        "data=prepare_data(45173, 2200,'category_Respiratory','rolled_up_code_518',binary=False)"
      ],
      "metadata": {
        "id": "KwYQ8d4_QlwB"
      },
      "execution_count": null,
      "outputs": []
    },
    {
      "cell_type": "code",
      "source": [
        "len(data['y_test'][0])"
      ],
      "metadata": {
        "colab": {
          "base_uri": "https://localhost:8080/"
        },
        "id": "AXmfM2seir7F",
        "outputId": "6c959248-270b-4b15-d2d7-ccf6f6bfa51a"
      },
      "execution_count": null,
      "outputs": [
        {
          "output_type": "execute_result",
          "data": {
            "text/plain": [
              "1154"
            ]
          },
          "metadata": {},
          "execution_count": 7
        }
      ]
    },
    {
      "cell_type": "code",
      "source": [
        "# add category for Bot model for binary prediction\n",
        "import math\n",
        "import torch\n",
        "import torch.nn as nn\n",
        "import torch.nn.functional as F\n",
        "class BOT_cat(nn.ModuleList):\n",
        "\n",
        "   def __init__(self, seq_len=2200,num_words=45173,embedding_size=64,out_size=32):\n",
        "      super(BOT_cat, self).__init__()\n",
        "\n",
        "      # Parameters regarding text preprocessing\n",
        "      self.seq_len = seq_len\n",
        "      self.num_words = num_words\n",
        "      self.embedding_size = embedding_size\n",
        "  \n",
        "      # Kernel sizes\n",
        "      self.kernel_1 = 3\n",
        "   \n",
        "      # Output size for each convolution\n",
        "      self.out_size = out_size\n",
        "      \n",
        "      # Embedding layer definition\n",
        "      self.embedding = nn.Embedding(self.num_words + 1, self.embedding_size, padding_idx=0)\n",
        "      \n",
        "      # Fully connected layer definition\n",
        "      # Change based on situation:\n",
        "      # binary classification\n",
        "      self.fc = nn.Linear(65, 1)\n",
        "\n",
        "\n",
        "   def forward(self, x):\n",
        "      report=x[:,:-1]\n",
        "      cat=torch.tensor(x[:,-1])\n",
        "      cat=cat.reshape(-1,1)\n",
        "      x = self.embedding(report)\n",
        " \n",
        "\n",
        "      #x = [batch size, seq. length, hidden dim]\n",
        "      \n",
        "      x = F.avg_pool2d(x, (x.shape[1], 1)).squeeze(1) #averages word vectors across whole sequence length\n",
        "      #x = [batch size, hidden dim]\n",
        "      x=torch.cat((x,cat),1)\n",
        "      x = self.fc(x)\n",
        "      #x = [batch size, output dim]\n",
        "\n",
        "      # Activation function is applied\n",
        "      x = torch.sigmoid(x)\n",
        "      \n",
        "      return x.squeeze()"
      ],
      "metadata": {
        "id": "dwpiiMrZfZyH"
      },
      "execution_count": null,
      "outputs": []
    },
    {
      "cell_type": "code",
      "source": [
        "# add category for Bot model for multiple prediction\n",
        "class BOT_cat_mul(nn.ModuleList):\n",
        "\n",
        "   def __init__(self, seq_len=2200,num_words=45173,labels=1154,embedding_size=64,out_size=32):\n",
        "      super(BOT_cat_mul, self).__init__()\n",
        "\n",
        "      # Parameters regarding text preprocessing\n",
        "      self.seq_len = seq_len\n",
        "      self.num_words = num_words\n",
        "      self.embedding_size = embedding_size\n",
        "  \n",
        "      # Kernel sizes\n",
        "      self.kernel_1 = 3\n",
        "   \n",
        "      # Output size for each convolution\n",
        "      self.out_size = out_size\n",
        "      \n",
        "      # Embedding layer definition\n",
        "      self.embedding = nn.Embedding(self.num_words + 1, self.embedding_size, padding_idx=0)\n",
        "      \n",
        "      # Fully connected layer definition\n",
        "      # Change based on situation:\n",
        "      # binary classification\n",
        "      # self.fc = nn.Linear(64, 1)\n",
        "      # multi-label classification\n",
        "      self.fc = nn.Linear(65, labels)\n",
        "\n",
        "   def forward(self, x):\n",
        "\n",
        "      report=x[:,:-1]\n",
        "      cat=torch.tensor(x[:,-1])\n",
        "\n",
        "      cat=cat.reshape(-1,1)\n",
        "\n",
        "      x = self.embedding(report)\n",
        "      #x = [batch size, seq. length, hidden dim]\n",
        "      x = F.avg_pool2d(x, (x.shape[1], 1)).squeeze(1) #averages word vectors across whole sequence length\n",
        "      #x = [batch size, hidden dim]\n",
        "\n",
        "      x=torch.cat((x,cat),1)\n",
        "      x = self.fc(x)\n",
        "      #x = [batch size, output dim]\n",
        "\n",
        "      # Activation function is applied\n",
        "      x = torch.sigmoid(x)\n",
        "      \n",
        "      return x.squeeze()"
      ],
      "metadata": {
        "id": "86oXf_xMRuAd"
      },
      "execution_count": null,
      "outputs": []
    },
    {
      "cell_type": "code",
      "source": [
        "# add category for CNN baseline model for binary prediction\n",
        "import math\n",
        "import torch\n",
        "import torch.nn as nn\n",
        "import torch.nn.functional as F\n",
        "class CNN_baseline_cat(nn.ModuleList):\n",
        "\n",
        "   def __init__(self, seq_len=2200,num_words=45173,embedding_size=64,out_size=32):\n",
        "      super(CNN_baseline_cat, self).__init__()\n",
        "\n",
        "      # Parameters regarding text preprocessing\n",
        "      self.seq_len = seq_len\n",
        "      self.num_words = num_words\n",
        "      self.embedding_size = embedding_size\n",
        "      \n",
        "      # CNN parameters definition\n",
        "      # Kernel sizes\n",
        "      self.kernel_1 = 3\n",
        "\n",
        "      \n",
        "      # Output size for each convolution\n",
        "      self.out_size = out_size\n",
        "      \n",
        "      # Embedding layer definition\n",
        "      self.embedding = nn.Embedding(self.num_words + 1, self.embedding_size, padding_idx=0)\n",
        "      \n",
        "      # Convolution layers definition\n",
        "      self.conv_1 = nn.Conv1d(self.seq_len, self.out_size, self.kernel_1)\n",
        "      \n",
        "      # Max pooling layers definition\n",
        "      self.pool_1 = nn.MaxPool1d(self.kernel_1)\n",
        "      \n",
        "      # Fully connected layer definition\n",
        "      self.fc = nn.Linear(641, 1)\n",
        " \n",
        "   def forward(self, x):\n",
        "      \n",
        "      # Sequence of tokes is filterd through an embedding layer\n",
        "      report=x[:,:-1]\n",
        "      cat=torch.tensor(x[:,-1])\n",
        "\n",
        "      cat=cat.reshape(-1,1)\n",
        "\n",
        "\n",
        "      x = self.embedding(report)\n",
        "\n",
        "      #x=torch.cat((x,cat),1)\n",
        "      # Convolution layer 1 is applied\n",
        "      x1 = self.conv_1(x)\n",
        "      x1 = torch.relu(x1)\n",
        "      x1 = self.pool_1(x1)\n",
        "\n",
        "      # The output of each convolutional layer is concatenated into a unique vector\n",
        "      x1=torch.flatten(x1, 1)\n",
        "\n",
        "      x1=torch.cat((x1,cat),1)\n",
        "      # The \"flattened\" vector is passed through a fully connected layer\n",
        "      out = self.fc(x1)\n",
        "      # Activation function is applied\n",
        "      out = torch.sigmoid(out)\n",
        "      \n",
        "      return out.squeeze()"
      ],
      "metadata": {
        "id": "VTx4mC8DaCVf"
      },
      "execution_count": null,
      "outputs": []
    },
    {
      "cell_type": "code",
      "source": [
        "class CNN_baseline_cat_mul(nn.ModuleList):\n",
        "\n",
        "   def __init__(self, seq_len=2200,num_words=45173,labels=1154,embedding_size=64,out_size=32):\n",
        "      super(CNN_baseline_cat_mul, self).__init__()\n",
        "\n",
        "      # Parameters regarding text preprocessing\n",
        "      self.seq_len = seq_len\n",
        "      self.num_words = num_words\n",
        "      self.embedding_size = embedding_size\n",
        "      \n",
        "      # CNN parameters definition\n",
        "      # Kernel sizes\n",
        "      self.kernel_1 = 3\n",
        "\n",
        "      \n",
        "      # Output size for each convolution\n",
        "      self.out_size = out_size\n",
        "      \n",
        "      # Embedding layer definition\n",
        "      self.embedding = nn.Embedding(self.num_words + 1, self.embedding_size, padding_idx=0)\n",
        "      \n",
        "      # Convolution layers definition\n",
        "      self.conv_1 = nn.Conv1d(self.seq_len, self.out_size, self.kernel_1)\n",
        "      \n",
        "      # Max pooling layers definition\n",
        "      self.pool_1 = nn.MaxPool1d(self.kernel_1)\n",
        "      \n",
        "      # Fully connected layer definition\n",
        "      self.fc = nn.Linear(641, labels)\n",
        " \n",
        "   def forward(self, x):\n",
        "      \n",
        "      # Sequence of tokes is filterd through an embedding layer\n",
        "      \n",
        "      report=x[:,:-1]\n",
        "      cat=torch.tensor(x[:,-1])\n",
        "      cat=cat.reshape(-1,1)\n",
        "      \n",
        "      x = self.embedding(report)\n",
        "\n",
        "      #x=torch.cat((x,cat),1)\n",
        "      # Convolution layer 1 is applied\n",
        "      x1 = self.conv_1(x)\n",
        "      x1 = torch.relu(x1)\n",
        "      x1 = self.pool_1(x1)\n",
        "\n",
        "      \n",
        "      # The output of each convolutional layer is concatenated into a unique vector\n",
        "      x1=torch.flatten(x1, 1)\n",
        "      x1=torch.cat((x1,cat),1)\n",
        "      # The \"flattened\" vector is passed through a fully connected layer\n",
        "      out = self.fc(x1)\n",
        "      # Activation function is applied\n",
        "      out = torch.sigmoid(out)\n",
        "      \n",
        "      return out.squeeze()"
      ],
      "metadata": {
        "id": "LdbdC_wzVR7Z"
      },
      "execution_count": null,
      "outputs": []
    },
    {
      "cell_type": "code",
      "source": [
        "import torch\n",
        "import torch.optim as optim\n",
        "import torch.nn.functional as F\n",
        "from sklearn.metrics import precision_recall_fscore_support\n",
        "from sklearn.metrics import accuracy_score\n",
        "from torch.utils.data import Dataset, DataLoader\n",
        "\n",
        "class DatasetMaper(Dataset):\n",
        "\n",
        "\tdef __init__(self, x, y):\n",
        "\t\tself.x = x\n",
        "\t\tself.y = y\n",
        "\t\t\n",
        "\tdef __len__(self):\n",
        "\t\treturn len(self.x)\n",
        "\t\t\n",
        "\tdef __getitem__(self, idx):\n",
        "\t\treturn self.x[idx], self.y[idx]"
      ],
      "metadata": {
        "id": "tthX_TrLS28m"
      },
      "execution_count": null,
      "outputs": []
    },
    {
      "cell_type": "code",
      "source": [
        "class Run:\n",
        "    '''Training, evaluation and metrics calculation'''\n",
        "\n",
        "    @staticmethod\n",
        "    def train(model, data, multi=10,binary=True):\n",
        "        \n",
        "        # Initialize dataset maper\n",
        "        train = DatasetMaper(data['x_train'], data['y_train'])\n",
        "        test = DatasetMaper(data['x_test'], data['y_test'])\n",
        "        \n",
        "        # Initialize loaders\n",
        "        loader_train = DataLoader(train, batch_size=32)\n",
        "        loader_test = DataLoader(test, batch_size=32)\n",
        "        \n",
        "        # Define optimizer\n",
        "        optimizer = optim.Adam(model.parameters(), lr=0.001)\n",
        "        \n",
        "        # Starts training phase\n",
        "        for epoch in range(15):\n",
        "            # Set model in training model\n",
        "            model.train()\n",
        "            predictions = []\n",
        "            # Starts batch training\n",
        "            for x_batch, y_batch in loader_train:\n",
        "                if (binary==False):\n",
        "                  y_batch = torch.stack(y_batch).T\n",
        "                y_batch = y_batch.type(torch.FloatTensor)\n",
        "                \n",
        "                # Feed the model\n",
        "                y_pred = model(x_batch)\n",
        "\n",
        "                # Loss calculation\n",
        "                loss = F.binary_cross_entropy(y_pred, y_batch)\n",
        "                \n",
        "                # Clean gradientes\n",
        "                optimizer.zero_grad()\n",
        "                \n",
        "                # Gradients calculation\n",
        "                loss.backward()\n",
        "                \n",
        "                # Gradients update\n",
        "                optimizer.step()\n",
        "                \n",
        "                # Save predictions\n",
        "                predictions += list(y_pred.detach().numpy())\n",
        "            \n",
        "            # Evaluation phase\n",
        "            test_predictions = Run.evaluation(model, loader_test)\n",
        "            if (binary==True):\n",
        "              predictions=[1 if pred>0.5 else 0 for pred in predictions]\n",
        "\n",
        "              test_predictions=[1 if pred>0.5 else 0 for pred in test_predictions]\n",
        "\n",
        "              train_precision,train_recall,train_f1,_ = precision_recall_fscore_support(predictions,data['y_train'],average='binary')\n",
        "              test_precision,test_recall,test_f1,_ = precision_recall_fscore_support(test_predictions,data['y_test'],average='binary')\n",
        "              test_accuracy=accuracy_score(data['y_test'],test_predictions)\n",
        "              print(\"Epoch: %d, loss: %.5f, Train precision: %.5f,Train recall: %.5f,Train f1: %.5f, Test accuracy: %.5f,Test precision: %.5f, Test recall: %.5f,Test f1: %.5f\" % (epoch+1, loss.item(), train_precision,train_recall,train_f1,test_accuracy,test_precision,test_recall,test_f1))\n",
        "            else:\n",
        "              for i in range(len(predictions)):\n",
        "                predictions[i]=[1 if pred>0.5 else 0 for pred in predictions[i]]  \n",
        "\n",
        "              for i in range(len(test_predictions)):\n",
        "                test_predictions[i]=[1 if pred>0.5 else 0 for pred in test_predictions[i]] \n",
        "              \n",
        "              multi_label_predictions = np.array(predictions)\n",
        "              print(multi_label_predictions.shape)\n",
        "              y_train=np.empty([7500,multi])\n",
        "              for i in range(len(data['y_train'])):\n",
        "                y_train[i][:]=data['y_train'][i]\n",
        "\n",
        "              train_precision_all = np.empty([multi])\n",
        "              train_recall_all = np.empty([multi])\n",
        "              train_f1_all = np.empty([multi])\n",
        "              for i in range(len(predictions[0])):\n",
        "                  train_precision_all[i],train_recall_all[i],train_f1_all[i],_ = precision_recall_fscore_support(multi_label_predictions[:][i],y_train[:][i],average='binary')\n",
        "              train_precision = train_precision_all.mean()\n",
        "              train_recall = train_recall_all.mean()\n",
        "              train_f1 = train_f1_all.mean()\n",
        "\n",
        "              multi_label_test_predictions = np.array(test_predictions)\n",
        "              print(multi_label_test_predictions.shape)\n",
        "              y_test=np.empty([2500,multi])\n",
        "              for i in range(len(data['y_test'])):\n",
        "                y_test[i][:]=data['y_test'][i]\n",
        "\n",
        "              test_precision_all = np.empty([multi])\n",
        "              test_recall_all = np.empty([multi])\n",
        "              test_f1_all = np.empty([multi])\n",
        "              for i in range(len(test_predictions[0])):\n",
        "                  test_precision_all[i],test_recall_all[i],test_f1_all[i],_ = precision_recall_fscore_support(multi_label_test_predictions[:][i],y_test[:][i],average='binary')\n",
        "              test_precision = test_precision_all.mean()\n",
        "              test_recall = test_recall_all.mean()\n",
        "              test_f1 = test_f1_all.mean()\n",
        "              print(\"Epoch: %d, loss: %.5f, Train precision: %.5f,Train recall: %.5f,Train f1: %.5f, Test precision: %.5f, Test recall: %.5f,Test f1: %.5f\" % (epoch+1, loss.item(), train_precision,train_recall,train_f1,test_precision,test_recall,test_f1))\n",
        "            \n",
        "    @staticmethod\n",
        "    def evaluation(model, loader_test):\n",
        "        \n",
        "        # Set the model in evaluation mode\n",
        "        model.eval()\n",
        "        predictions = []\n",
        "        \n",
        "        # Starst evaluation phase\n",
        "        with torch.no_grad():\n",
        "            for x_batch, y_batch in loader_test:\n",
        "                y_pred = model(x_batch)\n",
        "                predictions += list(y_pred.detach().numpy())\n",
        "        return predictions"
      ],
      "metadata": {
        "id": "Vh6LioohHGvm"
      },
      "execution_count": null,
      "outputs": []
    },
    {
      "cell_type": "code",
      "source": [
        "model_bot=BOT_cat()\n",
        "Run().train(model_bot,data)"
      ],
      "metadata": {
        "colab": {
          "base_uri": "https://localhost:8080/"
        },
        "id": "MIys_2UoWNie",
        "outputId": "da165d07-fa9b-40f4-e972-a7c548b2b346"
      },
      "execution_count": null,
      "outputs": [
        {
          "output_type": "stream",
          "name": "stderr",
          "text": [
            "/usr/local/lib/python3.7/dist-packages/ipykernel_launcher.py:33: UserWarning: To copy construct from a tensor, it is recommended to use sourceTensor.clone().detach() or sourceTensor.clone().detach().requires_grad_(True), rather than torch.tensor(sourceTensor).\n",
            "/usr/local/lib/python3.7/dist-packages/sklearn/metrics/_classification.py:1318: UndefinedMetricWarning: Recall and F-score are ill-defined and being set to 0.0 due to no true samples. Use `zero_division` parameter to control this behavior.\n",
            "  _warn_prf(average, modifier, msg_start, len(result))\n",
            "/usr/local/lib/python3.7/dist-packages/sklearn/metrics/_classification.py:1318: UndefinedMetricWarning: Recall and F-score are ill-defined and being set to 0.0 due to no true samples. Use `zero_division` parameter to control this behavior.\n",
            "  _warn_prf(average, modifier, msg_start, len(result))\n",
            "/usr/local/lib/python3.7/dist-packages/ipykernel_launcher.py:33: UserWarning: To copy construct from a tensor, it is recommended to use sourceTensor.clone().detach() or sourceTensor.clone().detach().requires_grad_(True), rather than torch.tensor(sourceTensor).\n"
          ]
        },
        {
          "output_type": "stream",
          "name": "stdout",
          "text": [
            "Epoch: 1, loss: 0.63923, Train precision: 0.00000,Train recall: 0.00000,Train f1: 0.00000, Test accuracy: 0.75480,Test precision: 0.00000, Test recall: 0.00000,Test f1: 0.00000\n"
          ]
        },
        {
          "output_type": "stream",
          "name": "stderr",
          "text": [
            "/usr/local/lib/python3.7/dist-packages/sklearn/metrics/_classification.py:1318: UndefinedMetricWarning: Recall and F-score are ill-defined and being set to 0.0 due to no true samples. Use `zero_division` parameter to control this behavior.\n",
            "  _warn_prf(average, modifier, msg_start, len(result))\n",
            "/usr/local/lib/python3.7/dist-packages/sklearn/metrics/_classification.py:1318: UndefinedMetricWarning: Recall and F-score are ill-defined and being set to 0.0 due to no true samples. Use `zero_division` parameter to control this behavior.\n",
            "  _warn_prf(average, modifier, msg_start, len(result))\n",
            "/usr/local/lib/python3.7/dist-packages/ipykernel_launcher.py:33: UserWarning: To copy construct from a tensor, it is recommended to use sourceTensor.clone().detach() or sourceTensor.clone().detach().requires_grad_(True), rather than torch.tensor(sourceTensor).\n"
          ]
        },
        {
          "output_type": "stream",
          "name": "stdout",
          "text": [
            "Epoch: 2, loss: 0.63996, Train precision: 0.00000,Train recall: 0.00000,Train f1: 0.00000, Test accuracy: 0.75480,Test precision: 0.00000, Test recall: 0.00000,Test f1: 0.00000\n"
          ]
        },
        {
          "output_type": "stream",
          "name": "stderr",
          "text": [
            "/usr/local/lib/python3.7/dist-packages/sklearn/metrics/_classification.py:1318: UndefinedMetricWarning: Recall and F-score are ill-defined and being set to 0.0 due to no true samples. Use `zero_division` parameter to control this behavior.\n",
            "  _warn_prf(average, modifier, msg_start, len(result))\n",
            "/usr/local/lib/python3.7/dist-packages/sklearn/metrics/_classification.py:1318: UndefinedMetricWarning: Recall and F-score are ill-defined and being set to 0.0 due to no true samples. Use `zero_division` parameter to control this behavior.\n",
            "  _warn_prf(average, modifier, msg_start, len(result))\n",
            "/usr/local/lib/python3.7/dist-packages/ipykernel_launcher.py:33: UserWarning: To copy construct from a tensor, it is recommended to use sourceTensor.clone().detach() or sourceTensor.clone().detach().requires_grad_(True), rather than torch.tensor(sourceTensor).\n"
          ]
        },
        {
          "output_type": "stream",
          "name": "stdout",
          "text": [
            "Epoch: 3, loss: 0.61485, Train precision: 0.00000,Train recall: 0.00000,Train f1: 0.00000, Test accuracy: 0.75480,Test precision: 0.00000, Test recall: 0.00000,Test f1: 0.00000\n",
            "Epoch: 4, loss: 0.56049, Train precision: 0.02637,Train recall: 1.00000,Train f1: 0.05139, Test accuracy: 0.76680,Test precision: 0.04894, Test recall: 1.00000,Test f1: 0.09331\n"
          ]
        },
        {
          "output_type": "stream",
          "name": "stderr",
          "text": [
            "/usr/local/lib/python3.7/dist-packages/ipykernel_launcher.py:33: UserWarning: To copy construct from a tensor, it is recommended to use sourceTensor.clone().detach() or sourceTensor.clone().detach().requires_grad_(True), rather than torch.tensor(sourceTensor).\n"
          ]
        },
        {
          "output_type": "stream",
          "name": "stdout",
          "text": [
            "Epoch: 5, loss: 0.49263, Train precision: 0.14341,Train recall: 1.00000,Train f1: 0.25084, Test accuracy: 0.79720,Test precision: 0.17292, Test recall: 1.00000,Test f1: 0.29485\n"
          ]
        },
        {
          "output_type": "stream",
          "name": "stderr",
          "text": [
            "/usr/local/lib/python3.7/dist-packages/ipykernel_launcher.py:33: UserWarning: To copy construct from a tensor, it is recommended to use sourceTensor.clone().detach() or sourceTensor.clone().detach().requires_grad_(True), rather than torch.tensor(sourceTensor).\n"
          ]
        },
        {
          "output_type": "stream",
          "name": "stdout",
          "text": [
            "Epoch: 6, loss: 0.42802, Train precision: 0.25824,Train recall: 1.00000,Train f1: 0.41048, Test accuracy: 0.81680,Test precision: 0.25449, Test recall: 0.99363,Test f1: 0.40519\n"
          ]
        },
        {
          "output_type": "stream",
          "name": "stderr",
          "text": [
            "/usr/local/lib/python3.7/dist-packages/ipykernel_launcher.py:33: UserWarning: To copy construct from a tensor, it is recommended to use sourceTensor.clone().detach() or sourceTensor.clone().detach().requires_grad_(True), rather than torch.tensor(sourceTensor).\n"
          ]
        },
        {
          "output_type": "stream",
          "name": "stdout",
          "text": [
            "Epoch: 7, loss: 0.37243, Train precision: 0.31703,Train recall: 0.98971,Train f1: 0.48023, Test accuracy: 0.82640,Test precision: 0.29364, Test recall: 0.99448,Test f1: 0.45340\n"
          ]
        },
        {
          "output_type": "stream",
          "name": "stderr",
          "text": [
            "/usr/local/lib/python3.7/dist-packages/ipykernel_launcher.py:33: UserWarning: To copy construct from a tensor, it is recommended to use sourceTensor.clone().detach() or sourceTensor.clone().detach().requires_grad_(True), rather than torch.tensor(sourceTensor).\n"
          ]
        },
        {
          "output_type": "stream",
          "name": "stdout",
          "text": [
            "Epoch: 8, loss: 0.32518, Train precision: 0.36209,Train recall: 0.98949,Train f1: 0.53017, Test accuracy: 0.83720,Test precision: 0.34095, Test recall: 0.98585,Test f1: 0.50667\n"
          ]
        },
        {
          "output_type": "stream",
          "name": "stderr",
          "text": [
            "/usr/local/lib/python3.7/dist-packages/ipykernel_launcher.py:33: UserWarning: To copy construct from a tensor, it is recommended to use sourceTensor.clone().detach() or sourceTensor.clone().detach().requires_grad_(True), rather than torch.tensor(sourceTensor).\n"
          ]
        },
        {
          "output_type": "stream",
          "name": "stdout",
          "text": [
            "Epoch: 9, loss: 0.28477, Train precision: 0.40769,Train recall: 0.98278,Train f1: 0.57631, Test accuracy: 0.84520,Test precision: 0.38173, Test recall: 0.96694,Test f1: 0.54737\n"
          ]
        },
        {
          "output_type": "stream",
          "name": "stderr",
          "text": [
            "/usr/local/lib/python3.7/dist-packages/ipykernel_launcher.py:33: UserWarning: To copy construct from a tensor, it is recommended to use sourceTensor.clone().detach() or sourceTensor.clone().detach().requires_grad_(True), rather than torch.tensor(sourceTensor).\n"
          ]
        },
        {
          "output_type": "stream",
          "name": "stdout",
          "text": [
            "Epoch: 10, loss: 0.25020, Train precision: 0.44341,Train recall: 0.98175,Train f1: 0.61090, Test accuracy: 0.85040,Test precision: 0.40457, Test recall: 0.96498,Test f1: 0.57011\n"
          ]
        },
        {
          "output_type": "stream",
          "name": "stderr",
          "text": [
            "/usr/local/lib/python3.7/dist-packages/ipykernel_launcher.py:33: UserWarning: To copy construct from a tensor, it is recommended to use sourceTensor.clone().detach() or sourceTensor.clone().detach().requires_grad_(True), rather than torch.tensor(sourceTensor).\n"
          ]
        },
        {
          "output_type": "stream",
          "name": "stdout",
          "text": [
            "Epoch: 11, loss: 0.22080, Train precision: 0.48132,Train recall: 0.97987,Train f1: 0.64554, Test accuracy: 0.85640,Test precision: 0.43230, Test recall: 0.96014,Test f1: 0.59618\n"
          ]
        },
        {
          "output_type": "stream",
          "name": "stderr",
          "text": [
            "/usr/local/lib/python3.7/dist-packages/ipykernel_launcher.py:33: UserWarning: To copy construct from a tensor, it is recommended to use sourceTensor.clone().detach() or sourceTensor.clone().detach().requires_grad_(True), rather than torch.tensor(sourceTensor).\n"
          ]
        },
        {
          "output_type": "stream",
          "name": "stdout",
          "text": [
            "Epoch: 12, loss: 0.19592, Train precision: 0.51154,Train recall: 0.98103,Train f1: 0.67244, Test accuracy: 0.86280,Test precision: 0.46330, Test recall: 0.95302,Test f1: 0.62349\n"
          ]
        },
        {
          "output_type": "stream",
          "name": "stderr",
          "text": [
            "/usr/local/lib/python3.7/dist-packages/ipykernel_launcher.py:33: UserWarning: To copy construct from a tensor, it is recommended to use sourceTensor.clone().detach() or sourceTensor.clone().detach().requires_grad_(True), rather than torch.tensor(sourceTensor).\n"
          ]
        },
        {
          "output_type": "stream",
          "name": "stdout",
          "text": [
            "Epoch: 13, loss: 0.17495, Train precision: 0.53626,Train recall: 0.98189,Train f1: 0.69367, Test accuracy: 0.86480,Test precision: 0.47471, Test recall: 0.94788,Test f1: 0.63261\n"
          ]
        },
        {
          "output_type": "stream",
          "name": "stderr",
          "text": [
            "/usr/local/lib/python3.7/dist-packages/ipykernel_launcher.py:33: UserWarning: To copy construct from a tensor, it is recommended to use sourceTensor.clone().detach() or sourceTensor.clone().detach().requires_grad_(True), rather than torch.tensor(sourceTensor).\n"
          ]
        },
        {
          "output_type": "stream",
          "name": "stdout",
          "text": [
            "Epoch: 14, loss: 0.15732, Train precision: 0.55604,Train recall: 0.98062,Train f1: 0.70968, Test accuracy: 0.86600,Test precision: 0.48450, Test recall: 0.93987,Test f1: 0.63940\n"
          ]
        },
        {
          "output_type": "stream",
          "name": "stderr",
          "text": [
            "/usr/local/lib/python3.7/dist-packages/ipykernel_launcher.py:33: UserWarning: To copy construct from a tensor, it is recommended to use sourceTensor.clone().detach() or sourceTensor.clone().detach().requires_grad_(True), rather than torch.tensor(sourceTensor).\n"
          ]
        },
        {
          "output_type": "stream",
          "name": "stdout",
          "text": [
            "Epoch: 15, loss: 0.14250, Train precision: 0.58022,Train recall: 0.97687,Train f1: 0.72802, Test accuracy: 0.87000,Test precision: 0.50245, Test recall: 0.93902,Test f1: 0.65462\n"
          ]
        }
      ]
    },
    {
      "cell_type": "code",
      "source": [
        "model_cnn=CNN_baseline_cat()\n",
        "Run().train(model_cnn,data)"
      ],
      "metadata": {
        "id": "7LobEsg-R9gl"
      },
      "execution_count": null,
      "outputs": []
    },
    {
      "cell_type": "code",
      "source": [
        "model_bot_mul=BOT_cat_mul()\n",
        "Run().train(model_bot_mul,data,multi=1154,binary=False)"
      ],
      "metadata": {
        "colab": {
          "base_uri": "https://localhost:8080/"
        },
        "id": "ON0patUEj2XA",
        "outputId": "a9914d52-24e0-411d-8824-0a7c9eaaf8f2"
      },
      "execution_count": null,
      "outputs": [
        {
          "output_type": "stream",
          "name": "stderr",
          "text": [
            "/usr/local/lib/python3.7/dist-packages/ipykernel_launcher.py:31: UserWarning: To copy construct from a tensor, it is recommended to use sourceTensor.clone().detach() or sourceTensor.clone().detach().requires_grad_(True), rather than torch.tensor(sourceTensor).\n"
          ]
        },
        {
          "output_type": "stream",
          "name": "stdout",
          "text": [
            "(7500, 1154)\n",
            "(2500, 1154)\n",
            "Epoch: 1, loss: 0.39562, Train precision: 0.33129,Train recall: 0.01775,Train f1: 0.03316, Test precision: 0.07301, Test recall: 0.59792,Test f1: 0.12722\n"
          ]
        },
        {
          "output_type": "stream",
          "name": "stderr",
          "text": [
            "/usr/local/lib/python3.7/dist-packages/ipykernel_launcher.py:31: UserWarning: To copy construct from a tensor, it is recommended to use sourceTensor.clone().detach() or sourceTensor.clone().detach().requires_grad_(True), rather than torch.tensor(sourceTensor).\n"
          ]
        },
        {
          "output_type": "stream",
          "name": "stdout",
          "text": [
            "(7500, 1154)\n",
            "(2500, 1154)\n",
            "Epoch: 2, loss: 0.24137, Train precision: 0.07645,Train recall: 0.62926,Train f1: 0.13340, Test precision: 0.07108, Test recall: 0.60240,Test f1: 0.12428\n"
          ]
        },
        {
          "output_type": "stream",
          "name": "stderr",
          "text": [
            "/usr/local/lib/python3.7/dist-packages/ipykernel_launcher.py:31: UserWarning: To copy construct from a tensor, it is recommended to use sourceTensor.clone().detach() or sourceTensor.clone().detach().requires_grad_(True), rather than torch.tensor(sourceTensor).\n"
          ]
        },
        {
          "output_type": "stream",
          "name": "stdout",
          "text": [
            "(7500, 1154)\n",
            "(2500, 1154)\n",
            "Epoch: 3, loss: 0.18922, Train precision: 0.07566,Train recall: 0.63417,Train f1: 0.13232, Test precision: 0.07059, Test recall: 0.60471,Test f1: 0.12355\n"
          ]
        },
        {
          "output_type": "stream",
          "name": "stderr",
          "text": [
            "/usr/local/lib/python3.7/dist-packages/ipykernel_launcher.py:31: UserWarning: To copy construct from a tensor, it is recommended to use sourceTensor.clone().detach() or sourceTensor.clone().detach().requires_grad_(True), rather than torch.tensor(sourceTensor).\n"
          ]
        },
        {
          "output_type": "stream",
          "name": "stdout",
          "text": [
            "(7500, 1154)\n",
            "(2500, 1154)\n",
            "Epoch: 4, loss: 0.16588, Train precision: 0.07537,Train recall: 0.63345,Train f1: 0.13185, Test precision: 0.07038, Test recall: 0.60500,Test f1: 0.12324\n"
          ]
        },
        {
          "output_type": "stream",
          "name": "stderr",
          "text": [
            "/usr/local/lib/python3.7/dist-packages/ipykernel_launcher.py:31: UserWarning: To copy construct from a tensor, it is recommended to use sourceTensor.clone().detach() or sourceTensor.clone().detach().requires_grad_(True), rather than torch.tensor(sourceTensor).\n"
          ]
        },
        {
          "output_type": "stream",
          "name": "stdout",
          "text": [
            "(7500, 1154)\n",
            "(2500, 1154)\n",
            "Epoch: 5, loss: 0.15229, Train precision: 0.07521,Train recall: 0.63417,Train f1: 0.13162, Test precision: 0.07037, Test recall: 0.60557,Test f1: 0.12325\n"
          ]
        },
        {
          "output_type": "stream",
          "name": "stderr",
          "text": [
            "/usr/local/lib/python3.7/dist-packages/ipykernel_launcher.py:31: UserWarning: To copy construct from a tensor, it is recommended to use sourceTensor.clone().detach() or sourceTensor.clone().detach().requires_grad_(True), rather than torch.tensor(sourceTensor).\n"
          ]
        },
        {
          "output_type": "stream",
          "name": "stdout",
          "text": [
            "(7500, 1154)\n",
            "(2500, 1154)\n",
            "Epoch: 6, loss: 0.14286, Train precision: 0.07585,Train recall: 0.63280,Train f1: 0.13257, Test precision: 0.07186, Test recall: 0.60422,Test f1: 0.12550\n"
          ]
        },
        {
          "output_type": "stream",
          "name": "stderr",
          "text": [
            "/usr/local/lib/python3.7/dist-packages/ipykernel_launcher.py:31: UserWarning: To copy construct from a tensor, it is recommended to use sourceTensor.clone().detach() or sourceTensor.clone().detach().requires_grad_(True), rather than torch.tensor(sourceTensor).\n"
          ]
        },
        {
          "output_type": "stream",
          "name": "stdout",
          "text": [
            "(7500, 1154)\n",
            "(2500, 1154)\n",
            "Epoch: 7, loss: 0.13559, Train precision: 0.07776,Train recall: 0.63296,Train f1: 0.13551, Test precision: 0.07241, Test recall: 0.60228,Test f1: 0.12629\n"
          ]
        },
        {
          "output_type": "stream",
          "name": "stderr",
          "text": [
            "/usr/local/lib/python3.7/dist-packages/ipykernel_launcher.py:31: UserWarning: To copy construct from a tensor, it is recommended to use sourceTensor.clone().detach() or sourceTensor.clone().detach().requires_grad_(True), rather than torch.tensor(sourceTensor).\n"
          ]
        },
        {
          "output_type": "stream",
          "name": "stdout",
          "text": [
            "(7500, 1154)\n",
            "(2500, 1154)\n",
            "Epoch: 8, loss: 0.12961, Train precision: 0.07838,Train recall: 0.63432,Train f1: 0.13653, Test precision: 0.07274, Test recall: 0.60100,Test f1: 0.12673\n"
          ]
        },
        {
          "output_type": "stream",
          "name": "stderr",
          "text": [
            "/usr/local/lib/python3.7/dist-packages/ipykernel_launcher.py:31: UserWarning: To copy construct from a tensor, it is recommended to use sourceTensor.clone().detach() or sourceTensor.clone().detach().requires_grad_(True), rather than torch.tensor(sourceTensor).\n"
          ]
        },
        {
          "output_type": "stream",
          "name": "stdout",
          "text": [
            "(7500, 1154)\n",
            "(2500, 1154)\n",
            "Epoch: 9, loss: 0.12449, Train precision: 0.07871,Train recall: 0.63237,Train f1: 0.13701, Test precision: 0.07293, Test recall: 0.60157,Test f1: 0.12704\n"
          ]
        },
        {
          "output_type": "stream",
          "name": "stderr",
          "text": [
            "/usr/local/lib/python3.7/dist-packages/ipykernel_launcher.py:31: UserWarning: To copy construct from a tensor, it is recommended to use sourceTensor.clone().detach() or sourceTensor.clone().detach().requires_grad_(True), rather than torch.tensor(sourceTensor).\n"
          ]
        },
        {
          "output_type": "stream",
          "name": "stdout",
          "text": [
            "(7500, 1154)\n",
            "(2500, 1154)\n",
            "Epoch: 10, loss: 0.12001, Train precision: 0.07890,Train recall: 0.63228,Train f1: 0.13731, Test precision: 0.07315, Test recall: 0.60109,Test f1: 0.12741\n"
          ]
        },
        {
          "output_type": "stream",
          "name": "stderr",
          "text": [
            "/usr/local/lib/python3.7/dist-packages/ipykernel_launcher.py:31: UserWarning: To copy construct from a tensor, it is recommended to use sourceTensor.clone().detach() or sourceTensor.clone().detach().requires_grad_(True), rather than torch.tensor(sourceTensor).\n"
          ]
        },
        {
          "output_type": "stream",
          "name": "stdout",
          "text": [
            "(7500, 1154)\n",
            "(2500, 1154)\n",
            "Epoch: 11, loss: 0.11603, Train precision: 0.07921,Train recall: 0.63177,Train f1: 0.13775, Test precision: 0.07339, Test recall: 0.60190,Test f1: 0.12780\n"
          ]
        },
        {
          "output_type": "stream",
          "name": "stderr",
          "text": [
            "/usr/local/lib/python3.7/dist-packages/ipykernel_launcher.py:31: UserWarning: To copy construct from a tensor, it is recommended to use sourceTensor.clone().detach() or sourceTensor.clone().detach().requires_grad_(True), rather than torch.tensor(sourceTensor).\n"
          ]
        },
        {
          "output_type": "stream",
          "name": "stdout",
          "text": [
            "(7500, 1154)\n",
            "(2500, 1154)\n",
            "Epoch: 12, loss: 0.11246, Train precision: 0.07944,Train recall: 0.63112,Train f1: 0.13805, Test precision: 0.07352, Test recall: 0.60166,Test f1: 0.12799\n"
          ]
        },
        {
          "output_type": "stream",
          "name": "stderr",
          "text": [
            "/usr/local/lib/python3.7/dist-packages/ipykernel_launcher.py:31: UserWarning: To copy construct from a tensor, it is recommended to use sourceTensor.clone().detach() or sourceTensor.clone().detach().requires_grad_(True), rather than torch.tensor(sourceTensor).\n"
          ]
        },
        {
          "output_type": "stream",
          "name": "stdout",
          "text": [
            "(7500, 1154)\n",
            "(2500, 1154)\n",
            "Epoch: 13, loss: 0.10924, Train precision: 0.07950,Train recall: 0.63104,Train f1: 0.13814, Test precision: 0.07401, Test recall: 0.60226,Test f1: 0.12874\n"
          ]
        },
        {
          "output_type": "stream",
          "name": "stderr",
          "text": [
            "/usr/local/lib/python3.7/dist-packages/ipykernel_launcher.py:31: UserWarning: To copy construct from a tensor, it is recommended to use sourceTensor.clone().detach() or sourceTensor.clone().detach().requires_grad_(True), rather than torch.tensor(sourceTensor).\n"
          ]
        },
        {
          "output_type": "stream",
          "name": "stdout",
          "text": [
            "(7500, 1154)\n",
            "(2500, 1154)\n",
            "Epoch: 14, loss: 0.10633, Train precision: 0.07981,Train recall: 0.62955,Train f1: 0.13855, Test precision: 0.07434, Test recall: 0.60334,Test f1: 0.12925\n"
          ]
        },
        {
          "output_type": "stream",
          "name": "stderr",
          "text": [
            "/usr/local/lib/python3.7/dist-packages/ipykernel_launcher.py:31: UserWarning: To copy construct from a tensor, it is recommended to use sourceTensor.clone().detach() or sourceTensor.clone().detach().requires_grad_(True), rather than torch.tensor(sourceTensor).\n"
          ]
        },
        {
          "output_type": "stream",
          "name": "stdout",
          "text": [
            "(7500, 1154)\n",
            "(2500, 1154)\n",
            "Epoch: 15, loss: 0.10369, Train precision: 0.08025,Train recall: 0.62971,Train f1: 0.13914, Test precision: 0.07468, Test recall: 0.60354,Test f1: 0.12974\n"
          ]
        }
      ]
    },
    {
      "cell_type": "code",
      "source": [
        "model_cnn_mul=CNN_baseline_cat_mul()\n",
        "Run().train(model_cnn_mul,data,multi=1154,binary=False)"
      ],
      "metadata": {
        "colab": {
          "base_uri": "https://localhost:8080/"
        },
        "id": "H7rN1r1eYCwT",
        "outputId": "02e20755-72f9-488e-a236-f0050d8b49d8"
      },
      "execution_count": null,
      "outputs": [
        {
          "output_type": "stream",
          "name": "stderr",
          "text": [
            "/usr/local/lib/python3.7/dist-packages/ipykernel_launcher.py:36: UserWarning: To copy construct from a tensor, it is recommended to use sourceTensor.clone().detach() or sourceTensor.clone().detach().requires_grad_(True), rather than torch.tensor(sourceTensor).\n"
          ]
        },
        {
          "output_type": "stream",
          "name": "stdout",
          "text": [
            "(7500, 1154)\n"
          ]
        },
        {
          "output_type": "stream",
          "name": "stderr",
          "text": [
            "/usr/local/lib/python3.7/dist-packages/sklearn/metrics/_classification.py:1318: UndefinedMetricWarning: Recall and F-score are ill-defined and being set to 0.0 due to no true samples. Use `zero_division` parameter to control this behavior.\n",
            "  _warn_prf(average, modifier, msg_start, len(result))\n",
            "/usr/local/lib/python3.7/dist-packages/sklearn/metrics/_classification.py:1318: UndefinedMetricWarning: Recall and F-score are ill-defined and being set to 0.0 due to no true samples. Use `zero_division` parameter to control this behavior.\n",
            "  _warn_prf(average, modifier, msg_start, len(result))\n",
            "/usr/local/lib/python3.7/dist-packages/sklearn/metrics/_classification.py:1318: UndefinedMetricWarning: Recall and F-score are ill-defined and being set to 0.0 due to no true samples. Use `zero_division` parameter to control this behavior.\n",
            "  _warn_prf(average, modifier, msg_start, len(result))\n",
            "/usr/local/lib/python3.7/dist-packages/sklearn/metrics/_classification.py:1318: UndefinedMetricWarning: Recall and F-score are ill-defined and being set to 0.0 due to no true samples. Use `zero_division` parameter to control this behavior.\n",
            "  _warn_prf(average, modifier, msg_start, len(result))\n"
          ]
        },
        {
          "output_type": "stream",
          "name": "stdout",
          "text": [
            "(2500, 1154)\n"
          ]
        },
        {
          "output_type": "stream",
          "name": "stderr",
          "text": [
            "/usr/local/lib/python3.7/dist-packages/sklearn/metrics/_classification.py:1318: UndefinedMetricWarning: Recall and F-score are ill-defined and being set to 0.0 due to no true samples. Use `zero_division` parameter to control this behavior.\n",
            "  _warn_prf(average, modifier, msg_start, len(result))\n",
            "/usr/local/lib/python3.7/dist-packages/sklearn/metrics/_classification.py:1318: UndefinedMetricWarning: Recall and F-score are ill-defined and being set to 0.0 due to no true samples. Use `zero_division` parameter to control this behavior.\n",
            "  _warn_prf(average, modifier, msg_start, len(result))\n",
            "/usr/local/lib/python3.7/dist-packages/sklearn/metrics/_classification.py:1318: UndefinedMetricWarning: Recall and F-score are ill-defined and being set to 0.0 due to no true samples. Use `zero_division` parameter to control this behavior.\n",
            "  _warn_prf(average, modifier, msg_start, len(result))\n",
            "/usr/local/lib/python3.7/dist-packages/sklearn/metrics/_classification.py:1318: UndefinedMetricWarning: Recall and F-score are ill-defined and being set to 0.0 due to no true samples. Use `zero_division` parameter to control this behavior.\n",
            "  _warn_prf(average, modifier, msg_start, len(result))\n",
            "/usr/local/lib/python3.7/dist-packages/sklearn/metrics/_classification.py:1318: UndefinedMetricWarning: Recall and F-score are ill-defined and being set to 0.0 due to no true samples. Use `zero_division` parameter to control this behavior.\n",
            "  _warn_prf(average, modifier, msg_start, len(result))\n",
            "/usr/local/lib/python3.7/dist-packages/sklearn/metrics/_classification.py:1318: UndefinedMetricWarning: Recall and F-score are ill-defined and being set to 0.0 due to no true samples. Use `zero_division` parameter to control this behavior.\n",
            "  _warn_prf(average, modifier, msg_start, len(result))\n",
            "/usr/local/lib/python3.7/dist-packages/sklearn/metrics/_classification.py:1318: UndefinedMetricWarning: Recall and F-score are ill-defined and being set to 0.0 due to no true samples. Use `zero_division` parameter to control this behavior.\n",
            "  _warn_prf(average, modifier, msg_start, len(result))\n"
          ]
        },
        {
          "output_type": "stream",
          "name": "stdout",
          "text": [
            "Epoch: 1, loss: 0.07302, Train precision: 0.09700,Train recall: 0.54189,Train f1: 0.12490, Test precision: 0.08911, Test recall: 0.62677,Test f1: 0.14874\n"
          ]
        },
        {
          "output_type": "stream",
          "name": "stderr",
          "text": [
            "/usr/local/lib/python3.7/dist-packages/ipykernel_launcher.py:36: UserWarning: To copy construct from a tensor, it is recommended to use sourceTensor.clone().detach() or sourceTensor.clone().detach().requires_grad_(True), rather than torch.tensor(sourceTensor).\n"
          ]
        },
        {
          "output_type": "stream",
          "name": "stdout",
          "text": [
            "(7500, 1154)\n"
          ]
        },
        {
          "output_type": "stream",
          "name": "stderr",
          "text": [
            "/usr/local/lib/python3.7/dist-packages/sklearn/metrics/_classification.py:1318: UndefinedMetricWarning: Recall and F-score are ill-defined and being set to 0.0 due to no true samples. Use `zero_division` parameter to control this behavior.\n",
            "  _warn_prf(average, modifier, msg_start, len(result))\n",
            "/usr/local/lib/python3.7/dist-packages/sklearn/metrics/_classification.py:1318: UndefinedMetricWarning: Recall and F-score are ill-defined and being set to 0.0 due to no true samples. Use `zero_division` parameter to control this behavior.\n",
            "  _warn_prf(average, modifier, msg_start, len(result))\n",
            "/usr/local/lib/python3.7/dist-packages/sklearn/metrics/_classification.py:1318: UndefinedMetricWarning: Recall and F-score are ill-defined and being set to 0.0 due to no true samples. Use `zero_division` parameter to control this behavior.\n",
            "  _warn_prf(average, modifier, msg_start, len(result))\n",
            "/usr/local/lib/python3.7/dist-packages/sklearn/metrics/_classification.py:1318: UndefinedMetricWarning: Recall and F-score are ill-defined and being set to 0.0 due to no true samples. Use `zero_division` parameter to control this behavior.\n",
            "  _warn_prf(average, modifier, msg_start, len(result))\n",
            "/usr/local/lib/python3.7/dist-packages/sklearn/metrics/_classification.py:1318: UndefinedMetricWarning: Recall and F-score are ill-defined and being set to 0.0 due to no true samples. Use `zero_division` parameter to control this behavior.\n",
            "  _warn_prf(average, modifier, msg_start, len(result))\n",
            "/usr/local/lib/python3.7/dist-packages/sklearn/metrics/_classification.py:1318: UndefinedMetricWarning: Recall and F-score are ill-defined and being set to 0.0 due to no true samples. Use `zero_division` parameter to control this behavior.\n",
            "  _warn_prf(average, modifier, msg_start, len(result))\n"
          ]
        },
        {
          "output_type": "stream",
          "name": "stdout",
          "text": [
            "(2500, 1154)\n",
            "Epoch: 2, loss: 0.04943, Train precision: 0.09788,Train recall: 0.64893,Train f1: 0.16425, Test precision: 0.19729, Test recall: 0.62791,Test f1: 0.27209\n"
          ]
        },
        {
          "output_type": "stream",
          "name": "stderr",
          "text": [
            "/usr/local/lib/python3.7/dist-packages/ipykernel_launcher.py:36: UserWarning: To copy construct from a tensor, it is recommended to use sourceTensor.clone().detach() or sourceTensor.clone().detach().requires_grad_(True), rather than torch.tensor(sourceTensor).\n"
          ]
        },
        {
          "output_type": "stream",
          "name": "stdout",
          "text": [
            "(7500, 1154)\n"
          ]
        },
        {
          "output_type": "stream",
          "name": "stderr",
          "text": [
            "/usr/local/lib/python3.7/dist-packages/sklearn/metrics/_classification.py:1318: UndefinedMetricWarning: Recall and F-score are ill-defined and being set to 0.0 due to no true samples. Use `zero_division` parameter to control this behavior.\n",
            "  _warn_prf(average, modifier, msg_start, len(result))\n",
            "/usr/local/lib/python3.7/dist-packages/sklearn/metrics/_classification.py:1318: UndefinedMetricWarning: Recall and F-score are ill-defined and being set to 0.0 due to no true samples. Use `zero_division` parameter to control this behavior.\n",
            "  _warn_prf(average, modifier, msg_start, len(result))\n",
            "/usr/local/lib/python3.7/dist-packages/sklearn/metrics/_classification.py:1318: UndefinedMetricWarning: Recall and F-score are ill-defined and being set to 0.0 due to no true samples. Use `zero_division` parameter to control this behavior.\n",
            "  _warn_prf(average, modifier, msg_start, len(result))\n",
            "/usr/local/lib/python3.7/dist-packages/sklearn/metrics/_classification.py:1318: UndefinedMetricWarning: Recall and F-score are ill-defined and being set to 0.0 due to no true samples. Use `zero_division` parameter to control this behavior.\n",
            "  _warn_prf(average, modifier, msg_start, len(result))\n",
            "/usr/local/lib/python3.7/dist-packages/sklearn/metrics/_classification.py:1318: UndefinedMetricWarning: Recall and F-score are ill-defined and being set to 0.0 due to no true samples. Use `zero_division` parameter to control this behavior.\n",
            "  _warn_prf(average, modifier, msg_start, len(result))\n",
            "/usr/local/lib/python3.7/dist-packages/sklearn/metrics/_classification.py:1318: UndefinedMetricWarning: Recall and F-score are ill-defined and being set to 0.0 due to no true samples. Use `zero_division` parameter to control this behavior.\n",
            "  _warn_prf(average, modifier, msg_start, len(result))\n",
            "/usr/local/lib/python3.7/dist-packages/sklearn/metrics/_classification.py:1318: UndefinedMetricWarning: Recall and F-score are ill-defined and being set to 0.0 due to no true samples. Use `zero_division` parameter to control this behavior.\n",
            "  _warn_prf(average, modifier, msg_start, len(result))\n",
            "/usr/local/lib/python3.7/dist-packages/sklearn/metrics/_classification.py:1318: UndefinedMetricWarning: Recall and F-score are ill-defined and being set to 0.0 due to no true samples. Use `zero_division` parameter to control this behavior.\n",
            "  _warn_prf(average, modifier, msg_start, len(result))\n",
            "/usr/local/lib/python3.7/dist-packages/sklearn/metrics/_classification.py:1318: UndefinedMetricWarning: Recall and F-score are ill-defined and being set to 0.0 due to no true samples. Use `zero_division` parameter to control this behavior.\n",
            "  _warn_prf(average, modifier, msg_start, len(result))\n",
            "/usr/local/lib/python3.7/dist-packages/sklearn/metrics/_classification.py:1318: UndefinedMetricWarning: Recall and F-score are ill-defined and being set to 0.0 due to no true samples. Use `zero_division` parameter to control this behavior.\n",
            "  _warn_prf(average, modifier, msg_start, len(result))\n",
            "/usr/local/lib/python3.7/dist-packages/sklearn/metrics/_classification.py:1318: UndefinedMetricWarning: Recall and F-score are ill-defined and being set to 0.0 due to no true samples. Use `zero_division` parameter to control this behavior.\n",
            "  _warn_prf(average, modifier, msg_start, len(result))\n",
            "/usr/local/lib/python3.7/dist-packages/sklearn/metrics/_classification.py:1318: UndefinedMetricWarning: Recall and F-score are ill-defined and being set to 0.0 due to no true samples. Use `zero_division` parameter to control this behavior.\n",
            "  _warn_prf(average, modifier, msg_start, len(result))\n",
            "/usr/local/lib/python3.7/dist-packages/sklearn/metrics/_classification.py:1318: UndefinedMetricWarning: Recall and F-score are ill-defined and being set to 0.0 due to no true samples. Use `zero_division` parameter to control this behavior.\n",
            "  _warn_prf(average, modifier, msg_start, len(result))\n",
            "/usr/local/lib/python3.7/dist-packages/sklearn/metrics/_classification.py:1318: UndefinedMetricWarning: Recall and F-score are ill-defined and being set to 0.0 due to no true samples. Use `zero_division` parameter to control this behavior.\n",
            "  _warn_prf(average, modifier, msg_start, len(result))\n",
            "/usr/local/lib/python3.7/dist-packages/sklearn/metrics/_classification.py:1318: UndefinedMetricWarning: Recall and F-score are ill-defined and being set to 0.0 due to no true samples. Use `zero_division` parameter to control this behavior.\n",
            "  _warn_prf(average, modifier, msg_start, len(result))\n",
            "/usr/local/lib/python3.7/dist-packages/sklearn/metrics/_classification.py:1318: UndefinedMetricWarning: Recall and F-score are ill-defined and being set to 0.0 due to no true samples. Use `zero_division` parameter to control this behavior.\n",
            "  _warn_prf(average, modifier, msg_start, len(result))\n",
            "/usr/local/lib/python3.7/dist-packages/sklearn/metrics/_classification.py:1318: UndefinedMetricWarning: Recall and F-score are ill-defined and being set to 0.0 due to no true samples. Use `zero_division` parameter to control this behavior.\n",
            "  _warn_prf(average, modifier, msg_start, len(result))\n",
            "/usr/local/lib/python3.7/dist-packages/sklearn/metrics/_classification.py:1318: UndefinedMetricWarning: Recall and F-score are ill-defined and being set to 0.0 due to no true samples. Use `zero_division` parameter to control this behavior.\n",
            "  _warn_prf(average, modifier, msg_start, len(result))\n"
          ]
        },
        {
          "output_type": "stream",
          "name": "stdout",
          "text": [
            "(2500, 1154)\n"
          ]
        },
        {
          "output_type": "stream",
          "name": "stderr",
          "text": [
            "/usr/local/lib/python3.7/dist-packages/sklearn/metrics/_classification.py:1318: UndefinedMetricWarning: Recall and F-score are ill-defined and being set to 0.0 due to no true samples. Use `zero_division` parameter to control this behavior.\n",
            "  _warn_prf(average, modifier, msg_start, len(result))\n",
            "/usr/local/lib/python3.7/dist-packages/sklearn/metrics/_classification.py:1318: UndefinedMetricWarning: Recall and F-score are ill-defined and being set to 0.0 due to no true samples. Use `zero_division` parameter to control this behavior.\n",
            "  _warn_prf(average, modifier, msg_start, len(result))\n",
            "/usr/local/lib/python3.7/dist-packages/sklearn/metrics/_classification.py:1318: UndefinedMetricWarning: Recall and F-score are ill-defined and being set to 0.0 due to no true samples. Use `zero_division` parameter to control this behavior.\n",
            "  _warn_prf(average, modifier, msg_start, len(result))\n",
            "/usr/local/lib/python3.7/dist-packages/sklearn/metrics/_classification.py:1318: UndefinedMetricWarning: Recall and F-score are ill-defined and being set to 0.0 due to no true samples. Use `zero_division` parameter to control this behavior.\n",
            "  _warn_prf(average, modifier, msg_start, len(result))\n"
          ]
        },
        {
          "output_type": "stream",
          "name": "stdout",
          "text": [
            "Epoch: 3, loss: 0.02657, Train precision: 0.20526,Train recall: 0.68482,Train f1: 0.27859, Test precision: 0.25932, Test recall: 0.64224,Test f1: 0.32787\n"
          ]
        },
        {
          "output_type": "stream",
          "name": "stderr",
          "text": [
            "/usr/local/lib/python3.7/dist-packages/ipykernel_launcher.py:36: UserWarning: To copy construct from a tensor, it is recommended to use sourceTensor.clone().detach() or sourceTensor.clone().detach().requires_grad_(True), rather than torch.tensor(sourceTensor).\n"
          ]
        },
        {
          "output_type": "stream",
          "name": "stdout",
          "text": [
            "(7500, 1154)\n"
          ]
        },
        {
          "output_type": "stream",
          "name": "stderr",
          "text": [
            "/usr/local/lib/python3.7/dist-packages/sklearn/metrics/_classification.py:1318: UndefinedMetricWarning: Recall and F-score are ill-defined and being set to 0.0 due to no true samples. Use `zero_division` parameter to control this behavior.\n",
            "  _warn_prf(average, modifier, msg_start, len(result))\n",
            "/usr/local/lib/python3.7/dist-packages/sklearn/metrics/_classification.py:1318: UndefinedMetricWarning: Recall and F-score are ill-defined and being set to 0.0 due to no true samples. Use `zero_division` parameter to control this behavior.\n",
            "  _warn_prf(average, modifier, msg_start, len(result))\n",
            "/usr/local/lib/python3.7/dist-packages/sklearn/metrics/_classification.py:1318: UndefinedMetricWarning: Recall and F-score are ill-defined and being set to 0.0 due to no true samples. Use `zero_division` parameter to control this behavior.\n",
            "  _warn_prf(average, modifier, msg_start, len(result))\n",
            "/usr/local/lib/python3.7/dist-packages/sklearn/metrics/_classification.py:1318: UndefinedMetricWarning: Recall and F-score are ill-defined and being set to 0.0 due to no true samples. Use `zero_division` parameter to control this behavior.\n",
            "  _warn_prf(average, modifier, msg_start, len(result))\n",
            "/usr/local/lib/python3.7/dist-packages/sklearn/metrics/_classification.py:1318: UndefinedMetricWarning: Recall and F-score are ill-defined and being set to 0.0 due to no true samples. Use `zero_division` parameter to control this behavior.\n",
            "  _warn_prf(average, modifier, msg_start, len(result))\n",
            "/usr/local/lib/python3.7/dist-packages/sklearn/metrics/_classification.py:1318: UndefinedMetricWarning: Recall and F-score are ill-defined and being set to 0.0 due to no true samples. Use `zero_division` parameter to control this behavior.\n",
            "  _warn_prf(average, modifier, msg_start, len(result))\n",
            "/usr/local/lib/python3.7/dist-packages/sklearn/metrics/_classification.py:1318: UndefinedMetricWarning: Recall and F-score are ill-defined and being set to 0.0 due to no true samples. Use `zero_division` parameter to control this behavior.\n",
            "  _warn_prf(average, modifier, msg_start, len(result))\n",
            "/usr/local/lib/python3.7/dist-packages/sklearn/metrics/_classification.py:1318: UndefinedMetricWarning: Recall and F-score are ill-defined and being set to 0.0 due to no true samples. Use `zero_division` parameter to control this behavior.\n",
            "  _warn_prf(average, modifier, msg_start, len(result))\n",
            "/usr/local/lib/python3.7/dist-packages/sklearn/metrics/_classification.py:1318: UndefinedMetricWarning: Recall and F-score are ill-defined and being set to 0.0 due to no true samples. Use `zero_division` parameter to control this behavior.\n",
            "  _warn_prf(average, modifier, msg_start, len(result))\n",
            "/usr/local/lib/python3.7/dist-packages/sklearn/metrics/_classification.py:1318: UndefinedMetricWarning: Recall and F-score are ill-defined and being set to 0.0 due to no true samples. Use `zero_division` parameter to control this behavior.\n",
            "  _warn_prf(average, modifier, msg_start, len(result))\n",
            "/usr/local/lib/python3.7/dist-packages/sklearn/metrics/_classification.py:1318: UndefinedMetricWarning: Recall and F-score are ill-defined and being set to 0.0 due to no true samples. Use `zero_division` parameter to control this behavior.\n",
            "  _warn_prf(average, modifier, msg_start, len(result))\n"
          ]
        },
        {
          "output_type": "stream",
          "name": "stdout",
          "text": [
            "(2500, 1154)\n"
          ]
        },
        {
          "output_type": "stream",
          "name": "stderr",
          "text": [
            "/usr/local/lib/python3.7/dist-packages/sklearn/metrics/_classification.py:1318: UndefinedMetricWarning: Recall and F-score are ill-defined and being set to 0.0 due to no true samples. Use `zero_division` parameter to control this behavior.\n",
            "  _warn_prf(average, modifier, msg_start, len(result))\n",
            "/usr/local/lib/python3.7/dist-packages/sklearn/metrics/_classification.py:1318: UndefinedMetricWarning: Recall and F-score are ill-defined and being set to 0.0 due to no true samples. Use `zero_division` parameter to control this behavior.\n",
            "  _warn_prf(average, modifier, msg_start, len(result))\n",
            "/usr/local/lib/python3.7/dist-packages/sklearn/metrics/_classification.py:1318: UndefinedMetricWarning: Recall and F-score are ill-defined and being set to 0.0 due to no true samples. Use `zero_division` parameter to control this behavior.\n",
            "  _warn_prf(average, modifier, msg_start, len(result))\n",
            "/usr/local/lib/python3.7/dist-packages/sklearn/metrics/_classification.py:1318: UndefinedMetricWarning: Recall and F-score are ill-defined and being set to 0.0 due to no true samples. Use `zero_division` parameter to control this behavior.\n",
            "  _warn_prf(average, modifier, msg_start, len(result))\n",
            "/usr/local/lib/python3.7/dist-packages/sklearn/metrics/_classification.py:1318: UndefinedMetricWarning: Recall and F-score are ill-defined and being set to 0.0 due to no true samples. Use `zero_division` parameter to control this behavior.\n",
            "  _warn_prf(average, modifier, msg_start, len(result))\n",
            "/usr/local/lib/python3.7/dist-packages/sklearn/metrics/_classification.py:1318: UndefinedMetricWarning: Recall and F-score are ill-defined and being set to 0.0 due to no true samples. Use `zero_division` parameter to control this behavior.\n",
            "  _warn_prf(average, modifier, msg_start, len(result))\n",
            "/usr/local/lib/python3.7/dist-packages/sklearn/metrics/_classification.py:1318: UndefinedMetricWarning: Recall and F-score are ill-defined and being set to 0.0 due to no true samples. Use `zero_division` parameter to control this behavior.\n",
            "  _warn_prf(average, modifier, msg_start, len(result))\n",
            "/usr/local/lib/python3.7/dist-packages/sklearn/metrics/_classification.py:1318: UndefinedMetricWarning: Recall and F-score are ill-defined and being set to 0.0 due to no true samples. Use `zero_division` parameter to control this behavior.\n",
            "  _warn_prf(average, modifier, msg_start, len(result))\n",
            "/usr/local/lib/python3.7/dist-packages/ipykernel_launcher.py:36: UserWarning: To copy construct from a tensor, it is recommended to use sourceTensor.clone().detach() or sourceTensor.clone().detach().requires_grad_(True), rather than torch.tensor(sourceTensor).\n"
          ]
        },
        {
          "output_type": "stream",
          "name": "stdout",
          "text": [
            "Epoch: 4, loss: 0.01657, Train precision: 0.32230,Train recall: 0.72008,Train f1: 0.39460, Test precision: 0.29854, Test recall: 0.63078,Test f1: 0.36285\n",
            "(7500, 1154)\n"
          ]
        },
        {
          "output_type": "stream",
          "name": "stderr",
          "text": [
            "/usr/local/lib/python3.7/dist-packages/sklearn/metrics/_classification.py:1318: UndefinedMetricWarning: Recall and F-score are ill-defined and being set to 0.0 due to no true samples. Use `zero_division` parameter to control this behavior.\n",
            "  _warn_prf(average, modifier, msg_start, len(result))\n",
            "/usr/local/lib/python3.7/dist-packages/sklearn/metrics/_classification.py:1318: UndefinedMetricWarning: Recall and F-score are ill-defined and being set to 0.0 due to no true samples. Use `zero_division` parameter to control this behavior.\n",
            "  _warn_prf(average, modifier, msg_start, len(result))\n",
            "/usr/local/lib/python3.7/dist-packages/sklearn/metrics/_classification.py:1318: UndefinedMetricWarning: Recall and F-score are ill-defined and being set to 0.0 due to no true samples. Use `zero_division` parameter to control this behavior.\n",
            "  _warn_prf(average, modifier, msg_start, len(result))\n",
            "/usr/local/lib/python3.7/dist-packages/sklearn/metrics/_classification.py:1318: UndefinedMetricWarning: Recall and F-score are ill-defined and being set to 0.0 due to no true samples. Use `zero_division` parameter to control this behavior.\n",
            "  _warn_prf(average, modifier, msg_start, len(result))\n",
            "/usr/local/lib/python3.7/dist-packages/sklearn/metrics/_classification.py:1318: UndefinedMetricWarning: Recall and F-score are ill-defined and being set to 0.0 due to no true samples. Use `zero_division` parameter to control this behavior.\n",
            "  _warn_prf(average, modifier, msg_start, len(result))\n",
            "/usr/local/lib/python3.7/dist-packages/sklearn/metrics/_classification.py:1318: UndefinedMetricWarning: Recall and F-score are ill-defined and being set to 0.0 due to no true samples. Use `zero_division` parameter to control this behavior.\n",
            "  _warn_prf(average, modifier, msg_start, len(result))\n",
            "/usr/local/lib/python3.7/dist-packages/sklearn/metrics/_classification.py:1318: UndefinedMetricWarning: Recall and F-score are ill-defined and being set to 0.0 due to no true samples. Use `zero_division` parameter to control this behavior.\n",
            "  _warn_prf(average, modifier, msg_start, len(result))\n",
            "/usr/local/lib/python3.7/dist-packages/sklearn/metrics/_classification.py:1318: UndefinedMetricWarning: Recall and F-score are ill-defined and being set to 0.0 due to no true samples. Use `zero_division` parameter to control this behavior.\n",
            "  _warn_prf(average, modifier, msg_start, len(result))\n",
            "/usr/local/lib/python3.7/dist-packages/sklearn/metrics/_classification.py:1318: UndefinedMetricWarning: Recall and F-score are ill-defined and being set to 0.0 due to no true samples. Use `zero_division` parameter to control this behavior.\n",
            "  _warn_prf(average, modifier, msg_start, len(result))\n",
            "/usr/local/lib/python3.7/dist-packages/sklearn/metrics/_classification.py:1318: UndefinedMetricWarning: Recall and F-score are ill-defined and being set to 0.0 due to no true samples. Use `zero_division` parameter to control this behavior.\n",
            "  _warn_prf(average, modifier, msg_start, len(result))\n"
          ]
        },
        {
          "output_type": "stream",
          "name": "stdout",
          "text": [
            "(2500, 1154)\n"
          ]
        },
        {
          "output_type": "stream",
          "name": "stderr",
          "text": [
            "/usr/local/lib/python3.7/dist-packages/sklearn/metrics/_classification.py:1318: UndefinedMetricWarning: Recall and F-score are ill-defined and being set to 0.0 due to no true samples. Use `zero_division` parameter to control this behavior.\n",
            "  _warn_prf(average, modifier, msg_start, len(result))\n",
            "/usr/local/lib/python3.7/dist-packages/sklearn/metrics/_classification.py:1318: UndefinedMetricWarning: Recall and F-score are ill-defined and being set to 0.0 due to no true samples. Use `zero_division` parameter to control this behavior.\n",
            "  _warn_prf(average, modifier, msg_start, len(result))\n"
          ]
        },
        {
          "output_type": "stream",
          "name": "stdout",
          "text": [
            "Epoch: 5, loss: 0.01181, Train precision: 0.41771,Train recall: 0.75348,Train f1: 0.48685, Test precision: 0.32621, Test recall: 0.61460,Test f1: 0.38607\n"
          ]
        },
        {
          "output_type": "stream",
          "name": "stderr",
          "text": [
            "/usr/local/lib/python3.7/dist-packages/ipykernel_launcher.py:36: UserWarning: To copy construct from a tensor, it is recommended to use sourceTensor.clone().detach() or sourceTensor.clone().detach().requires_grad_(True), rather than torch.tensor(sourceTensor).\n"
          ]
        },
        {
          "output_type": "stream",
          "name": "stdout",
          "text": [
            "(7500, 1154)\n"
          ]
        },
        {
          "output_type": "stream",
          "name": "stderr",
          "text": [
            "/usr/local/lib/python3.7/dist-packages/sklearn/metrics/_classification.py:1318: UndefinedMetricWarning: Recall and F-score are ill-defined and being set to 0.0 due to no true samples. Use `zero_division` parameter to control this behavior.\n",
            "  _warn_prf(average, modifier, msg_start, len(result))\n",
            "/usr/local/lib/python3.7/dist-packages/sklearn/metrics/_classification.py:1318: UndefinedMetricWarning: Recall and F-score are ill-defined and being set to 0.0 due to no true samples. Use `zero_division` parameter to control this behavior.\n",
            "  _warn_prf(average, modifier, msg_start, len(result))\n",
            "/usr/local/lib/python3.7/dist-packages/sklearn/metrics/_classification.py:1318: UndefinedMetricWarning: Recall and F-score are ill-defined and being set to 0.0 due to no true samples. Use `zero_division` parameter to control this behavior.\n",
            "  _warn_prf(average, modifier, msg_start, len(result))\n",
            "/usr/local/lib/python3.7/dist-packages/sklearn/metrics/_classification.py:1318: UndefinedMetricWarning: Recall and F-score are ill-defined and being set to 0.0 due to no true samples. Use `zero_division` parameter to control this behavior.\n",
            "  _warn_prf(average, modifier, msg_start, len(result))\n",
            "/usr/local/lib/python3.7/dist-packages/sklearn/metrics/_classification.py:1318: UndefinedMetricWarning: Recall and F-score are ill-defined and being set to 0.0 due to no true samples. Use `zero_division` parameter to control this behavior.\n",
            "  _warn_prf(average, modifier, msg_start, len(result))\n",
            "/usr/local/lib/python3.7/dist-packages/sklearn/metrics/_classification.py:1318: UndefinedMetricWarning: Recall and F-score are ill-defined and being set to 0.0 due to no true samples. Use `zero_division` parameter to control this behavior.\n",
            "  _warn_prf(average, modifier, msg_start, len(result))\n",
            "/usr/local/lib/python3.7/dist-packages/sklearn/metrics/_classification.py:1318: UndefinedMetricWarning: Recall and F-score are ill-defined and being set to 0.0 due to no true samples. Use `zero_division` parameter to control this behavior.\n",
            "  _warn_prf(average, modifier, msg_start, len(result))\n",
            "/usr/local/lib/python3.7/dist-packages/sklearn/metrics/_classification.py:1318: UndefinedMetricWarning: Recall and F-score are ill-defined and being set to 0.0 due to no true samples. Use `zero_division` parameter to control this behavior.\n",
            "  _warn_prf(average, modifier, msg_start, len(result))\n",
            "/usr/local/lib/python3.7/dist-packages/sklearn/metrics/_classification.py:1318: UndefinedMetricWarning: Recall and F-score are ill-defined and being set to 0.0 due to no true samples. Use `zero_division` parameter to control this behavior.\n",
            "  _warn_prf(average, modifier, msg_start, len(result))\n",
            "/usr/local/lib/python3.7/dist-packages/sklearn/metrics/_classification.py:1318: UndefinedMetricWarning: Recall and F-score are ill-defined and being set to 0.0 due to no true samples. Use `zero_division` parameter to control this behavior.\n",
            "  _warn_prf(average, modifier, msg_start, len(result))\n"
          ]
        },
        {
          "output_type": "stream",
          "name": "stdout",
          "text": [
            "(2500, 1154)\n"
          ]
        },
        {
          "output_type": "stream",
          "name": "stderr",
          "text": [
            "/usr/local/lib/python3.7/dist-packages/sklearn/metrics/_classification.py:1318: UndefinedMetricWarning: Recall and F-score are ill-defined and being set to 0.0 due to no true samples. Use `zero_division` parameter to control this behavior.\n",
            "  _warn_prf(average, modifier, msg_start, len(result))\n"
          ]
        },
        {
          "output_type": "stream",
          "name": "stdout",
          "text": [
            "Epoch: 6, loss: 0.00882, Train precision: 0.49182,Train recall: 0.77653,Train f1: 0.55733, Test precision: 0.34550, Test recall: 0.60184,Test f1: 0.40164\n"
          ]
        },
        {
          "output_type": "stream",
          "name": "stderr",
          "text": [
            "/usr/local/lib/python3.7/dist-packages/ipykernel_launcher.py:36: UserWarning: To copy construct from a tensor, it is recommended to use sourceTensor.clone().detach() or sourceTensor.clone().detach().requires_grad_(True), rather than torch.tensor(sourceTensor).\n"
          ]
        },
        {
          "output_type": "stream",
          "name": "stdout",
          "text": [
            "(7500, 1154)\n"
          ]
        },
        {
          "output_type": "stream",
          "name": "stderr",
          "text": [
            "/usr/local/lib/python3.7/dist-packages/sklearn/metrics/_classification.py:1318: UndefinedMetricWarning: Recall and F-score are ill-defined and being set to 0.0 due to no true samples. Use `zero_division` parameter to control this behavior.\n",
            "  _warn_prf(average, modifier, msg_start, len(result))\n",
            "/usr/local/lib/python3.7/dist-packages/sklearn/metrics/_classification.py:1318: UndefinedMetricWarning: Recall and F-score are ill-defined and being set to 0.0 due to no true samples. Use `zero_division` parameter to control this behavior.\n",
            "  _warn_prf(average, modifier, msg_start, len(result))\n",
            "/usr/local/lib/python3.7/dist-packages/sklearn/metrics/_classification.py:1318: UndefinedMetricWarning: Recall and F-score are ill-defined and being set to 0.0 due to no true samples. Use `zero_division` parameter to control this behavior.\n",
            "  _warn_prf(average, modifier, msg_start, len(result))\n",
            "/usr/local/lib/python3.7/dist-packages/sklearn/metrics/_classification.py:1318: UndefinedMetricWarning: Recall and F-score are ill-defined and being set to 0.0 due to no true samples. Use `zero_division` parameter to control this behavior.\n",
            "  _warn_prf(average, modifier, msg_start, len(result))\n"
          ]
        },
        {
          "output_type": "stream",
          "name": "stdout",
          "text": [
            "(2500, 1154)\n"
          ]
        },
        {
          "output_type": "stream",
          "name": "stderr",
          "text": [
            "/usr/local/lib/python3.7/dist-packages/sklearn/metrics/_classification.py:1318: UndefinedMetricWarning: Recall and F-score are ill-defined and being set to 0.0 due to no true samples. Use `zero_division` parameter to control this behavior.\n",
            "  _warn_prf(average, modifier, msg_start, len(result))\n"
          ]
        },
        {
          "output_type": "stream",
          "name": "stdout",
          "text": [
            "Epoch: 7, loss: 0.00700, Train precision: 0.55525,Train recall: 0.80003,Train f1: 0.61816, Test precision: 0.35734, Test recall: 0.58926,Test f1: 0.41101\n"
          ]
        },
        {
          "output_type": "stream",
          "name": "stderr",
          "text": [
            "/usr/local/lib/python3.7/dist-packages/ipykernel_launcher.py:36: UserWarning: To copy construct from a tensor, it is recommended to use sourceTensor.clone().detach() or sourceTensor.clone().detach().requires_grad_(True), rather than torch.tensor(sourceTensor).\n"
          ]
        },
        {
          "output_type": "stream",
          "name": "stdout",
          "text": [
            "(7500, 1154)\n"
          ]
        },
        {
          "output_type": "stream",
          "name": "stderr",
          "text": [
            "/usr/local/lib/python3.7/dist-packages/sklearn/metrics/_classification.py:1318: UndefinedMetricWarning: Recall and F-score are ill-defined and being set to 0.0 due to no true samples. Use `zero_division` parameter to control this behavior.\n",
            "  _warn_prf(average, modifier, msg_start, len(result))\n"
          ]
        },
        {
          "output_type": "stream",
          "name": "stdout",
          "text": [
            "(2500, 1154)\n",
            "Epoch: 8, loss: 0.00578, Train precision: 0.61790,Train recall: 0.82925,Train f1: 0.67743, Test precision: 0.36691, Test recall: 0.57593,Test f1: 0.41698\n"
          ]
        },
        {
          "output_type": "stream",
          "name": "stderr",
          "text": [
            "/usr/local/lib/python3.7/dist-packages/ipykernel_launcher.py:36: UserWarning: To copy construct from a tensor, it is recommended to use sourceTensor.clone().detach() or sourceTensor.clone().detach().requires_grad_(True), rather than torch.tensor(sourceTensor).\n"
          ]
        },
        {
          "output_type": "stream",
          "name": "stdout",
          "text": [
            "(7500, 1154)\n"
          ]
        },
        {
          "output_type": "stream",
          "name": "stderr",
          "text": [
            "/usr/local/lib/python3.7/dist-packages/sklearn/metrics/_classification.py:1318: UndefinedMetricWarning: Recall and F-score are ill-defined and being set to 0.0 due to no true samples. Use `zero_division` parameter to control this behavior.\n",
            "  _warn_prf(average, modifier, msg_start, len(result))\n"
          ]
        },
        {
          "output_type": "stream",
          "name": "stdout",
          "text": [
            "(2500, 1154)\n",
            "Epoch: 9, loss: 0.00488, Train precision: 0.67033,Train recall: 0.85268,Train f1: 0.72635, Test precision: 0.37750, Test recall: 0.56765,Test f1: 0.42453\n"
          ]
        },
        {
          "output_type": "stream",
          "name": "stderr",
          "text": [
            "/usr/local/lib/python3.7/dist-packages/ipykernel_launcher.py:36: UserWarning: To copy construct from a tensor, it is recommended to use sourceTensor.clone().detach() or sourceTensor.clone().detach().requires_grad_(True), rather than torch.tensor(sourceTensor).\n"
          ]
        },
        {
          "output_type": "stream",
          "name": "stdout",
          "text": [
            "(7500, 1154)\n"
          ]
        },
        {
          "output_type": "stream",
          "name": "stderr",
          "text": [
            "/usr/local/lib/python3.7/dist-packages/sklearn/metrics/_classification.py:1318: UndefinedMetricWarning: Recall and F-score are ill-defined and being set to 0.0 due to no true samples. Use `zero_division` parameter to control this behavior.\n",
            "  _warn_prf(average, modifier, msg_start, len(result))\n"
          ]
        },
        {
          "output_type": "stream",
          "name": "stdout",
          "text": [
            "(2500, 1154)\n",
            "Epoch: 10, loss: 0.00421, Train precision: 0.71627,Train recall: 0.87202,Train f1: 0.76724, Test precision: 0.38309, Test recall: 0.56031,Test f1: 0.42792\n"
          ]
        },
        {
          "output_type": "stream",
          "name": "stderr",
          "text": [
            "/usr/local/lib/python3.7/dist-packages/ipykernel_launcher.py:36: UserWarning: To copy construct from a tensor, it is recommended to use sourceTensor.clone().detach() or sourceTensor.clone().detach().requires_grad_(True), rather than torch.tensor(sourceTensor).\n"
          ]
        },
        {
          "output_type": "stream",
          "name": "stdout",
          "text": [
            "(7500, 1154)\n"
          ]
        },
        {
          "output_type": "stream",
          "name": "stderr",
          "text": [
            "/usr/local/lib/python3.7/dist-packages/sklearn/metrics/_classification.py:1318: UndefinedMetricWarning: Recall and F-score are ill-defined and being set to 0.0 due to no true samples. Use `zero_division` parameter to control this behavior.\n",
            "  _warn_prf(average, modifier, msg_start, len(result))\n"
          ]
        },
        {
          "output_type": "stream",
          "name": "stdout",
          "text": [
            "(2500, 1154)\n",
            "Epoch: 11, loss: 0.00371, Train precision: 0.75506,Train recall: 0.89016,Train f1: 0.80109, Test precision: 0.39007, Test recall: 0.55078,Test f1: 0.43206\n"
          ]
        },
        {
          "output_type": "stream",
          "name": "stderr",
          "text": [
            "/usr/local/lib/python3.7/dist-packages/ipykernel_launcher.py:36: UserWarning: To copy construct from a tensor, it is recommended to use sourceTensor.clone().detach() or sourceTensor.clone().detach().requires_grad_(True), rather than torch.tensor(sourceTensor).\n"
          ]
        },
        {
          "output_type": "stream",
          "name": "stdout",
          "text": [
            "(7500, 1154)\n",
            "(2500, 1154)\n",
            "Epoch: 12, loss: 0.00327, Train precision: 0.78615,Train recall: 0.90428,Train f1: 0.82854, Test precision: 0.39773, Test recall: 0.54270,Test f1: 0.43649\n"
          ]
        },
        {
          "output_type": "stream",
          "name": "stderr",
          "text": [
            "/usr/local/lib/python3.7/dist-packages/ipykernel_launcher.py:36: UserWarning: To copy construct from a tensor, it is recommended to use sourceTensor.clone().detach() or sourceTensor.clone().detach().requires_grad_(True), rather than torch.tensor(sourceTensor).\n"
          ]
        },
        {
          "output_type": "stream",
          "name": "stdout",
          "text": [
            "(7500, 1154)\n",
            "(2500, 1154)\n",
            "Epoch: 13, loss: 0.00290, Train precision: 0.81410,Train recall: 0.91646,Train f1: 0.85194, Test precision: 0.40171, Test recall: 0.53497,Test f1: 0.43752\n"
          ]
        },
        {
          "output_type": "stream",
          "name": "stderr",
          "text": [
            "/usr/local/lib/python3.7/dist-packages/ipykernel_launcher.py:36: UserWarning: To copy construct from a tensor, it is recommended to use sourceTensor.clone().detach() or sourceTensor.clone().detach().requires_grad_(True), rather than torch.tensor(sourceTensor).\n"
          ]
        },
        {
          "output_type": "stream",
          "name": "stdout",
          "text": [
            "(7500, 1154)\n",
            "(2500, 1154)\n",
            "Epoch: 14, loss: 0.00256, Train precision: 0.83596,Train recall: 0.92728,Train f1: 0.87055, Test precision: 0.40708, Test recall: 0.52942,Test f1: 0.43956\n"
          ]
        },
        {
          "output_type": "stream",
          "name": "stderr",
          "text": [
            "/usr/local/lib/python3.7/dist-packages/ipykernel_launcher.py:36: UserWarning: To copy construct from a tensor, it is recommended to use sourceTensor.clone().detach() or sourceTensor.clone().detach().requires_grad_(True), rather than torch.tensor(sourceTensor).\n"
          ]
        },
        {
          "output_type": "stream",
          "name": "stdout",
          "text": [
            "(7500, 1154)\n",
            "(2500, 1154)\n",
            "Epoch: 15, loss: 0.00228, Train precision: 0.85438,Train recall: 0.93566,Train f1: 0.88559, Test precision: 0.40700, Test recall: 0.52206,Test f1: 0.43742\n"
          ]
        }
      ]
    },
    {
      "cell_type": "code",
      "source": [
        ""
      ],
      "metadata": {
        "id": "udUOMyZeYA2-"
      },
      "execution_count": null,
      "outputs": []
    }
  ]
}