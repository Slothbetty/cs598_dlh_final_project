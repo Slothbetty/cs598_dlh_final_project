{
  "cells": [
    {
      "cell_type": "markdown",
      "metadata": {
        "id": "view-in-github",
        "colab_type": "text"
      },
      "source": [
        "<a href=\"https://colab.research.google.com/github/bzhao10/cs598_dlh_final_project/blob/main/CS_598_Final_pj.ipynb\" target=\"_parent\"><img src=\"https://colab.research.google.com/assets/colab-badge.svg\" alt=\"Open In Colab\"/></a>"
      ]
    },
    {
      "cell_type": "markdown",
      "metadata": {
        "id": "WAOoKyInOiNv"
      },
      "source": [
        "CS 598 Final Project"
      ]
    },
    {
      "cell_type": "code",
      "execution_count": null,
      "metadata": {
        "colab": {
          "base_uri": "https://localhost:8080/"
        },
        "id": "mkz1rde_PJrT",
        "outputId": "6d163e61-f697-4e23-c8cd-6d9901a25840"
      },
      "outputs": [
        {
          "name": "stdout",
          "output_type": "stream",
          "text": [
            "Mounted at /content/drive\n"
          ]
        }
      ],
      "source": [
        "from google.colab import drive\n",
        "drive.mount('/content/drive')"
      ]
    },
    {
      "cell_type": "code",
      "execution_count": null,
      "metadata": {
        "colab": {
          "base_uri": "https://localhost:8080/"
        },
        "id": "Fd8yoI-0-_3N",
        "outputId": "9b82af39-192c-4ac9-d452-d278b06502ac"
      },
      "outputs": [
        {
          "name": "stdout",
          "output_type": "stream",
          "text": [
            "Collecting strsimpy\n",
            "  Downloading strsimpy-0.2.1-py3-none-any.whl (45 kB)\n",
            "\u001b[?25l\r\u001b[K     |███████▏                        | 10 kB 27.1 MB/s eta 0:00:01\r\u001b[K     |██████████████▎                 | 20 kB 15.0 MB/s eta 0:00:01\r\u001b[K     |█████████████████████▍          | 30 kB 11.1 MB/s eta 0:00:01\r\u001b[K     |████████████████████████████▋   | 40 kB 9.4 MB/s eta 0:00:01\r\u001b[K     |████████████████████████████████| 45 kB 1.8 MB/s \n",
            "\u001b[?25hInstalling collected packages: strsimpy\n",
            "Successfully installed strsimpy-0.2.1\n"
          ]
        }
      ],
      "source": [
        "!pip install -U strsimpy"
      ]
    },
    {
      "cell_type": "code",
      "execution_count": null,
      "metadata": {
        "colab": {
          "base_uri": "https://localhost:8080/"
        },
        "id": "ImiMfSwd065_",
        "outputId": "88a007ff-6f47-4884-93b2-8ee68506329f"
      },
      "outputs": [
        {
          "name": "stdout",
          "output_type": "stream",
          "text": [
            "Collecting fasttext\n",
            "  Downloading fasttext-0.9.2.tar.gz (68 kB)\n",
            "\u001b[?25l\r\u001b[K     |████▊                           | 10 kB 17.5 MB/s eta 0:00:01\r\u001b[K     |█████████▌                      | 20 kB 7.6 MB/s eta 0:00:01\r\u001b[K     |██████████████▎                 | 30 kB 4.9 MB/s eta 0:00:01\r\u001b[K     |███████████████████             | 40 kB 4.4 MB/s eta 0:00:01\r\u001b[K     |███████████████████████▉        | 51 kB 3.7 MB/s eta 0:00:01\r\u001b[K     |████████████████████████████▋   | 61 kB 4.3 MB/s eta 0:00:01\r\u001b[K     |████████████████████████████████| 68 kB 2.6 MB/s \n",
            "\u001b[?25hCollecting pybind11>=2.2\n",
            "  Using cached pybind11-2.9.2-py2.py3-none-any.whl (213 kB)\n",
            "Requirement already satisfied: setuptools>=0.7.0 in /usr/local/lib/python3.7/dist-packages (from fasttext) (57.4.0)\n",
            "Requirement already satisfied: numpy in /usr/local/lib/python3.7/dist-packages (from fasttext) (1.21.5)\n",
            "Building wheels for collected packages: fasttext\n",
            "  Building wheel for fasttext (setup.py) ... \u001b[?25l\u001b[?25hdone\n",
            "  Created wheel for fasttext: filename=fasttext-0.9.2-cp37-cp37m-linux_x86_64.whl size=3142284 sha256=243df30a66ee597e71e2044d2cc8c88179e925a044445654d4fd65ceb524919e\n",
            "  Stored in directory: /root/.cache/pip/wheels/4e/ca/bf/b020d2be95f7641801a6597a29c8f4f19e38f9c02a345bab9b\n",
            "Successfully built fasttext\n",
            "Installing collected packages: pybind11, fasttext\n",
            "Successfully installed fasttext-0.9.2 pybind11-2.9.2\n"
          ]
        }
      ],
      "source": [
        "!pip install fasttext\n"
      ]
    },
    {
      "cell_type": "code",
      "execution_count": null,
      "metadata": {
        "id": "8kUV5_djOg7P"
      },
      "outputs": [],
      "source": [
        "import pandas as pd\n",
        "\n",
        "#notes=pd.read_csv(\"/content/drive/MyDrive/DLH_final_project_dataset/noteevents.csv\")\n",
        "\n",
        "notes=pd.read_csv(\"/content/drive/MyDrive/DLH_final_project_dataset/diabete_noteevents.csv\")\n",
        "admin_icd=pd.read_csv(\"/content/drive/MyDrive/DLH_final_project_dataset/admission_id_diagnose_icd_code.csv\")"
      ]
    },
    {
      "cell_type": "code",
      "execution_count": null,
      "metadata": {
        "colab": {
          "base_uri": "https://localhost:8080/",
          "height": 855
        },
        "id": "aKEjD39NR9s3",
        "outputId": "9ec91663-6a7b-49f2-9015-e0c2b1bfd2df"
      },
      "outputs": [
        {
          "data": {
            "text/html": [
              "\n",
              "  <div id=\"df-f861da6b-fa58-4bda-b382-1fac1e4051be\">\n",
              "    <div class=\"colab-df-container\">\n",
              "      <div>\n",
              "<style scoped>\n",
              "    .dataframe tbody tr th:only-of-type {\n",
              "        vertical-align: middle;\n",
              "    }\n",
              "\n",
              "    .dataframe tbody tr th {\n",
              "        vertical-align: top;\n",
              "    }\n",
              "\n",
              "    .dataframe thead th {\n",
              "        text-align: right;\n",
              "    }\n",
              "</style>\n",
              "<table border=\"1\" class=\"dataframe\">\n",
              "  <thead>\n",
              "    <tr style=\"text-align: right;\">\n",
              "      <th></th>\n",
              "      <th>HADM_ID</th>\n",
              "      <th>ROW_ID</th>\n",
              "      <th>SUBJECT_ID</th>\n",
              "      <th>CATEGORY</th>\n",
              "      <th>CGID</th>\n",
              "      <th>CHARTDATE</th>\n",
              "      <th>CHARTTIME</th>\n",
              "      <th>DESCRIPTION</th>\n",
              "      <th>ISERROR</th>\n",
              "      <th>STORETIME</th>\n",
              "      <th>TEXT</th>\n",
              "    </tr>\n",
              "  </thead>\n",
              "  <tbody>\n",
              "    <tr>\n",
              "      <th>559</th>\n",
              "      <td>100018</td>\n",
              "      <td>699999</td>\n",
              "      <td>58128</td>\n",
              "      <td>Physician</td>\n",
              "      <td>21365.0</td>\n",
              "      <td>2176-08-31</td>\n",
              "      <td>2176-08-31 06:06:00</td>\n",
              "      <td>Intensivist Note</td>\n",
              "      <td>NaN</td>\n",
              "      <td>2176-08-31 06:06:47</td>\n",
              "      <td>sicu hpi male extensive medical history includ...</td>\n",
              "    </tr>\n",
              "  </tbody>\n",
              "</table>\n",
              "</div>\n",
              "      <button class=\"colab-df-convert\" onclick=\"convertToInteractive('df-f861da6b-fa58-4bda-b382-1fac1e4051be')\"\n",
              "              title=\"Convert this dataframe to an interactive table.\"\n",
              "              style=\"display:none;\">\n",
              "        \n",
              "  <svg xmlns=\"http://www.w3.org/2000/svg\" height=\"24px\"viewBox=\"0 0 24 24\"\n",
              "       width=\"24px\">\n",
              "    <path d=\"M0 0h24v24H0V0z\" fill=\"none\"/>\n",
              "    <path d=\"M18.56 5.44l.94 2.06.94-2.06 2.06-.94-2.06-.94-.94-2.06-.94 2.06-2.06.94zm-11 1L8.5 8.5l.94-2.06 2.06-.94-2.06-.94L8.5 2.5l-.94 2.06-2.06.94zm10 10l.94 2.06.94-2.06 2.06-.94-2.06-.94-.94-2.06-.94 2.06-2.06.94z\"/><path d=\"M17.41 7.96l-1.37-1.37c-.4-.4-.92-.59-1.43-.59-.52 0-1.04.2-1.43.59L10.3 9.45l-7.72 7.72c-.78.78-.78 2.05 0 2.83L4 21.41c.39.39.9.59 1.41.59.51 0 1.02-.2 1.41-.59l7.78-7.78 2.81-2.81c.8-.78.8-2.07 0-2.86zM5.41 20L4 18.59l7.72-7.72 1.47 1.35L5.41 20z\"/>\n",
              "  </svg>\n",
              "      </button>\n",
              "      \n",
              "  <style>\n",
              "    .colab-df-container {\n",
              "      display:flex;\n",
              "      flex-wrap:wrap;\n",
              "      gap: 12px;\n",
              "    }\n",
              "\n",
              "    .colab-df-convert {\n",
              "      background-color: #E8F0FE;\n",
              "      border: none;\n",
              "      border-radius: 50%;\n",
              "      cursor: pointer;\n",
              "      display: none;\n",
              "      fill: #1967D2;\n",
              "      height: 32px;\n",
              "      padding: 0 0 0 0;\n",
              "      width: 32px;\n",
              "    }\n",
              "\n",
              "    .colab-df-convert:hover {\n",
              "      background-color: #E2EBFA;\n",
              "      box-shadow: 0px 1px 2px rgba(60, 64, 67, 0.3), 0px 1px 3px 1px rgba(60, 64, 67, 0.15);\n",
              "      fill: #174EA6;\n",
              "    }\n",
              "\n",
              "    [theme=dark] .colab-df-convert {\n",
              "      background-color: #3B4455;\n",
              "      fill: #D2E3FC;\n",
              "    }\n",
              "\n",
              "    [theme=dark] .colab-df-convert:hover {\n",
              "      background-color: #434B5C;\n",
              "      box-shadow: 0px 1px 3px 1px rgba(0, 0, 0, 0.15);\n",
              "      filter: drop-shadow(0px 1px 2px rgba(0, 0, 0, 0.3));\n",
              "      fill: #FFFFFF;\n",
              "    }\n",
              "  </style>\n",
              "\n",
              "      <script>\n",
              "        const buttonEl =\n",
              "          document.querySelector('#df-f861da6b-fa58-4bda-b382-1fac1e4051be button.colab-df-convert');\n",
              "        buttonEl.style.display =\n",
              "          google.colab.kernel.accessAllowed ? 'block' : 'none';\n",
              "\n",
              "        async function convertToInteractive(key) {\n",
              "          const element = document.querySelector('#df-f861da6b-fa58-4bda-b382-1fac1e4051be');\n",
              "          const dataTable =\n",
              "            await google.colab.kernel.invokeFunction('convertToInteractive',\n",
              "                                                     [key], {});\n",
              "          if (!dataTable) return;\n",
              "\n",
              "          const docLinkHtml = 'Like what you see? Visit the ' +\n",
              "            '<a target=\"_blank\" href=https://colab.research.google.com/notebooks/data_table.ipynb>data table notebook</a>'\n",
              "            + ' to learn more about interactive tables.';\n",
              "          element.innerHTML = '';\n",
              "          dataTable['output_type'] = 'display_data';\n",
              "          await google.colab.output.renderOutput(dataTable, element);\n",
              "          const docLink = document.createElement('div');\n",
              "          docLink.innerHTML = docLinkHtml;\n",
              "          element.appendChild(docLink);\n",
              "        }\n",
              "      </script>\n",
              "    </div>\n",
              "  </div>\n",
              "  "
            ],
            "text/plain": [
              "     HADM_ID  ROW_ID  SUBJECT_ID    CATEGORY     CGID   CHARTDATE  \\\n",
              "559   100018  699999       58128  Physician   21365.0  2176-08-31   \n",
              "\n",
              "               CHARTTIME       DESCRIPTION  ISERROR            STORETIME  \\\n",
              "559  2176-08-31 06:06:00  Intensivist Note      NaN  2176-08-31 06:06:47   \n",
              "\n",
              "                                                  TEXT  \n",
              "559  sicu hpi male extensive medical history includ...  "
            ]
          },
          "execution_count": 51,
          "metadata": {},
          "output_type": "execute_result"
        }
      ],
      "source": [
        "notes[notes.HADM_ID==100018]"
      ]
    },
    {
      "cell_type": "code",
      "execution_count": null,
      "metadata": {
        "colab": {
          "base_uri": "https://localhost:8080/"
        },
        "id": "rK50kDe2me62",
        "outputId": "1f446434-f0e3-4d3a-eddf-226003e1bf9c"
      },
      "outputs": [
        {
          "data": {
            "text/plain": [
              "0.4361348695836573"
            ]
          },
          "execution_count": 6,
          "metadata": {},
          "output_type": "execute_result"
        }
      ],
      "source": [
        "def icd_percentage(admin_icd,s):\n",
        "  res=0\n",
        "  for i in range(len(admin_icd)):\n",
        "    if s in admin_icd.loc[i,'icd_codes']:\n",
        "      res=res+1\n",
        "  return res/len(admin_icd)\n",
        "icd_percentage(admin_icd,'272')"
      ]
    },
    {
      "cell_type": "code",
      "execution_count": null,
      "metadata": {
        "colab": {
          "base_uri": "https://localhost:8080/"
        },
        "id": "JNmflGxQjWnt",
        "outputId": "876e3962-4685-42e5-d18f-d8a9e0fa5582"
      },
      "outputs": [
        {
          "name": "stdout",
          "output_type": "stream",
          "text": [
            "4097\n"
          ]
        }
      ],
      "source": [
        "icd_list=[]\n",
        "for i in range(len(admin_icd)):\n",
        "  icd_list=icd_list+admin_icd.loc[i,'icd_codes'].split(',')\n",
        "print(len(set(icd_list)))#4097"
      ]
    },
    {
      "cell_type": "code",
      "execution_count": null,
      "metadata": {
        "colab": {
          "base_uri": "https://localhost:8080/"
        },
        "id": "tmoXh0d0rhzZ",
        "outputId": "970eecd2-d616-4498-a641-0b4d976c9f90"
      },
      "outputs": [
        {
          "name": "stdout",
          "output_type": "stream",
          "text": [
            "780\n"
          ]
        }
      ],
      "source": [
        "icd_list=set(icd_list)\n",
        "icd_list_roll=[]\n",
        "for i in icd_list:\n",
        "  icd_list_roll.append(i[0:3])\n",
        "print(len(set(icd_list_roll)))#780"
      ]
    },
    {
      "cell_type": "code",
      "execution_count": null,
      "metadata": {
        "id": "KNidbyKcP-VK"
      },
      "outputs": [],
      "source": [
        "import time\n",
        "import numpy as np\n",
        "import string\n",
        "from nltk import word_tokenize\n",
        "\n",
        "\n",
        "# PLEASE USE THE GIVEN FUNCTION NAME, DO NOT CHANGE IT\n",
        "\n",
        "\n",
        "#input\n",
        "# corpus_df: a dataframe returned by `load_dataset`\n",
        "#output\n",
        "# corpus_processed: a list of articles where each article is broke into a list of words \n",
        "def preprocess_dataset(df):    \n",
        "    ''' Preprocess the text data. And return a list of articles. '''\n",
        "    corpus_processed = []\n",
        "    corpus_all=[]\n",
        "    df.TEXT = df.TEXT.str.replace('\\n', '')  # remove newline\n",
        "    df.TEXT = df.TEXT.str.replace('\\r', '')  # carriage returns\n",
        "    \"\"\"\n",
        "    TODO: 1. remove punc;\n",
        "          2. remove numbers.\n",
        "          \n",
        "    HINT: consider using `string.punctuation`, `str.maketrans`, and `str.translate`.\n",
        "    \"\"\"\n",
        "    #df.TEXT=df.TEXT.str.replace(string.punctuation, '')\n",
        "\n",
        "    table = str.maketrans('', '', string.punctuation)\n",
        "    df.TEXT = [w.translate(table) for w in df.TEXT]\n",
        "    table2 = str.maketrans('', '', '1234567890')\n",
        "    df.TEXT = [w.translate(table2) for w in df.TEXT]    \n",
        "    df.TEXT = df.TEXT.str.lower()  # convert to lower case\n",
        "    \n",
        "    # tokenize\n",
        "    for note in df.TEXT.values:\n",
        "        note_tokenized = word_tokenize(note)\n",
        "        corpus_processed.append(note_tokenized)\n",
        "        corpus_all=corpus_all+note_tokenized\n",
        "    return corpus_processed,corpus_all"
      ]
    },
    {
      "cell_type": "code",
      "execution_count": null,
      "metadata": {
        "id": "JXBHe_QcSaCk"
      },
      "outputs": [],
      "source": [
        "#https://stackoverflow.com/questions/26483254/python-pandas-insert-list-into-a-cell\n",
        "notes.at[0, 'TEXT'] = word_tokenize(notes['TEXT'][0])"
      ]
    },
    {
      "cell_type": "code",
      "execution_count": null,
      "metadata": {
        "colab": {
          "base_uri": "https://localhost:8080/"
        },
        "id": "Q_IqVyJmVNg6",
        "outputId": "57f5ba12-fedc-4a06-8aea-491d7c4c099d"
      },
      "outputs": [
        {
          "name": "stdout",
          "output_type": "stream",
          "text": [
            "[nltk_data] Downloading package punkt to /root/nltk_data...\n",
            "[nltk_data]   Unzipping tokenizers/punkt.zip.\n"
          ]
        },
        {
          "data": {
            "text/plain": [
              "True"
            ]
          },
          "execution_count": 58,
          "metadata": {},
          "output_type": "execute_result"
        }
      ],
      "source": [
        "import nltk\n",
        "nltk.download('punkt')"
      ]
    },
    {
      "cell_type": "code",
      "execution_count": null,
      "metadata": {
        "id": "FL_BpPoEVCQY"
      },
      "outputs": [],
      "source": [
        "notes_preprocessed,notes_all=preprocess_dataset(notes)"
      ]
    },
    {
      "cell_type": "code",
      "execution_count": null,
      "metadata": {
        "colab": {
          "base_uri": "https://localhost:8080/"
        },
        "id": "75LL9i2xVeJh",
        "outputId": "9b587563-ac76-4c16-83e9-faa42b2d6331"
      },
      "outputs": [
        {
          "name": "stdout",
          "output_type": "stream",
          "text": [
            "6425\n"
          ]
        }
      ],
      "source": [
        "tmp=pd.value_counts(notes_all)\n",
        "word_mistake=tmp[tmp<5].index.tolist()\n",
        "print(len(word_mistake))"
      ]
    },
    {
      "cell_type": "code",
      "execution_count": null,
      "metadata": {
        "colab": {
          "base_uri": "https://localhost:8080/"
        },
        "id": "B_LL2OnMyJ9w",
        "outputId": "08aa4539-d8f5-4b34-ae67-2466cf0530be"
      },
      "outputs": [
        {
          "name": "stdout",
          "output_type": "stream",
          "text": [
            "3273\n"
          ]
        }
      ],
      "source": [
        "word_common=tmp[tmp>=5].index.tolist()\n",
        "print(len(word_common))"
      ]
    },
    {
      "cell_type": "code",
      "execution_count": null,
      "metadata": {
        "id": "TD9LHOW0yUiT"
      },
      "outputs": [],
      "source": [
        "word_mistake_dict=dict.fromkeys(word_mistake)"
      ]
    },
    {
      "cell_type": "code",
      "execution_count": null,
      "metadata": {
        "id": "7mbOyNK7zb5-"
      },
      "outputs": [],
      "source": [
        "from strsimpy.levenshtein import Levenshtein\n",
        "levenshtein = Levenshtein()\n",
        "count=0\n",
        "for i in word_mistake_dict:\n",
        "  count=count+1\n",
        "  if (count%100==0):\n",
        "    print(count)\n",
        "  dist=100000000\n",
        "  for j in word_common:\n",
        "    dist_tmp=levenshtein.distance(i,j)\n",
        "    if dist_tmp<dist:\n",
        "      dist=dist_tmp\n",
        "      word_mistake_dict[i]=j\n"
      ]
    },
    {
      "cell_type": "code",
      "execution_count": null,
      "metadata": {
        "id": "Z9ftquM_QG1e"
      },
      "outputs": [],
      "source": [
        "# initializing string\n",
        "test_str = 'geekforgeeks best for geeks'\n",
        "  \n",
        "# printing original string\n",
        "print(\"The original string is : \" + str(test_str))\n",
        "  \n",
        "# lookup Dictionary\n",
        "lookp_dict = {\"best\" : \"good and better\", \"geeks\" : \"all CS aspirants\"}\n",
        "  \n",
        "# one-liner to solve problem\n",
        "res = \" \".join(lookp_dict.get(ele, ele) for ele in test_str.split())\n",
        "  \n",
        "# printing result \n",
        "print(\"Replaced Strings : \" + str(res)) "
      ]
    },
    {
      "cell_type": "code",
      "execution_count": null,
      "metadata": {
        "id": "L93aZbujPkuc"
      },
      "outputs": [],
      "source": [
        "word_mistake_dict"
      ]
    },
    {
      "cell_type": "code",
      "execution_count": null,
      "metadata": {
        "id": "4B6NR3iC_d4h"
      },
      "outputs": [],
      "source": [
        "import fasttext\n",
        "from gensim.utils import simple_preprocess\n",
        "\n",
        "#dataset = pd.read_csv('train.csv')[['Body', 'Y']].rename(columns = {'Body': 'questions', 'Y': 'category'})\n",
        "#ds = pd.read_csv('valid.csv')[['Body', 'Y']].rename(columns = {'Body': 'questions', 'Y': 'category'})\n",
        "\n",
        "# NLP Preprocess\n",
        "notes.loc[:, 'TEXT'] = notes.loc[:, 'TEXT'].apply(lambda x: ' '.join(simple_preprocess(x)))\n",
        "#ds.iloc[:, 0] = ds.iloc[:, 0].apply(lambda x: ' '.join(simple_preprocess(x)))\n",
        "\n",
        "# Prefixing each row of the category column with '__label__'\n",
        "#admin_icd.loc[:, 'icd_codes'] = admin_icd.loc[:, 'icd_codes'].apply(map(lambda x: '__label__' + x, x in ))\n",
        "#ds.iloc[:, 1] = ds.iloc[:, 1].apply(lambda x: '__label__' + x)"
      ]
    },
    {
      "cell_type": "code",
      "execution_count": null,
      "metadata": {
        "colab": {
          "background_save": true,
          "base_uri": "https://localhost:8080/"
        },
        "id": "9ODeoexYO6OC",
        "outputId": "a1749b3d-4635-4f05-ae31-04d9ce7cdec0"
      },
      "outputs": [
        {
          "name": "stdout",
          "output_type": "stream",
          "text": [
            "0\n",
            "100\n",
            "200\n",
            "300\n",
            "400\n",
            "500\n",
            "600\n",
            "700\n",
            "800\n",
            "900\n"
          ]
        }
      ],
      "source": [
        "for i in range(len(notes)):\n",
        "  if (i%100==0):\n",
        "    print(i)\n",
        "  for word, initial in word_mistake_dict.items():\n",
        "    notes.loc[i,'TEXT'] = \" \".join(word_mistake_dict.get(ele, ele) for ele in notes.loc[i,'TEXT'].split())\n",
        "    \n",
        "    "
      ]
    },
    {
      "cell_type": "code",
      "execution_count": null,
      "metadata": {
        "id": "jq2S11Hif1MR"
      },
      "outputs": [],
      "source": [
        "for i in range(len(notes_preprocessed)):\n",
        "  for j in range(len(notes_preprocessed[i])):\n",
        "    if notes_preprocessed[i][j] in word_mistake_dict:\n",
        "      notes_preprocessed[i][j]=word_mistake_dict\n",
        "      \n"
      ]
    },
    {
      "cell_type": "code",
      "execution_count": null,
      "metadata": {
        "colab": {
          "base_uri": "https://localhost:8080/",
          "height": 105
        },
        "id": "v3Sssy89gE8W",
        "outputId": "85f4231e-df23-4ba0-945b-196319c78ab8"
      },
      "outputs": [
        {
          "data": {
            "application/vnd.google.colaboratory.intrinsic+json": {
              "type": "string"
            },
            "text/plain": [
              "'am chest pa lat clip clip number radiology reason evaluate for lead position admitting diagnosis pneumonia hospital medical condition year old man with new dual chamber icd via left cephalic vein reason for this examination evaluate for lead position final report history year old male with dual chamber pacing device via left cephalic vein please evaluate lead position comparison chest radiograph from three days prior two views of the chest the left chest pacing device has two intact leads projecting over the expected location of the right atrium and ventricle in apparently satisfactory position right upper lobe opacity likely most likely infectious but possibly neoplastic was better seen on cta three days prior minimal vascular engorgement has not changed mild cardiomegaly is stable impression successful placement of pacing device in the expected location'"
            ]
          },
          "execution_count": 99,
          "metadata": {},
          "output_type": "execute_result"
        }
      ],
      "source": [
        "notes.loc[0,'TEXT']"
      ]
    },
    {
      "cell_type": "code",
      "execution_count": null,
      "metadata": {
        "colab": {
          "base_uri": "https://localhost:8080/",
          "height": 206
        },
        "id": "5za-77AKDe5c",
        "outputId": "ec66e6e1-d8f2-45ad-b3ea-b71fddfc300d"
      },
      "outputs": [
        {
          "data": {
            "text/html": [
              "\n",
              "  <div id=\"df-461fcef4-7db6-4f00-8047-7fe3e0899f0d\">\n",
              "    <div class=\"colab-df-container\">\n",
              "      <div>\n",
              "<style scoped>\n",
              "    .dataframe tbody tr th:only-of-type {\n",
              "        vertical-align: middle;\n",
              "    }\n",
              "\n",
              "    .dataframe tbody tr th {\n",
              "        vertical-align: top;\n",
              "    }\n",
              "\n",
              "    .dataframe thead th {\n",
              "        text-align: right;\n",
              "    }\n",
              "</style>\n",
              "<table border=\"1\" class=\"dataframe\">\n",
              "  <thead>\n",
              "    <tr style=\"text-align: right;\">\n",
              "      <th></th>\n",
              "      <th>HADM_ID</th>\n",
              "      <th>icd_codes</th>\n",
              "    </tr>\n",
              "  </thead>\n",
              "  <tbody>\n",
              "    <tr>\n",
              "      <th>0</th>\n",
              "      <td>100001</td>\n",
              "      <td>__label____label__25013,25043,25053,25063,2508...</td>\n",
              "    </tr>\n",
              "    <tr>\n",
              "      <th>1</th>\n",
              "      <td>100009</td>\n",
              "      <td>__label____label__25000,2720,27800,2859,4019,4...</td>\n",
              "    </tr>\n",
              "    <tr>\n",
              "      <th>2</th>\n",
              "      <td>100018</td>\n",
              "      <td>__label____label__2254,25040,25060,25070,2761,...</td>\n",
              "    </tr>\n",
              "    <tr>\n",
              "      <th>3</th>\n",
              "      <td>100034</td>\n",
              "      <td>__label____label__25000,2724,4019,412,4139,414...</td>\n",
              "    </tr>\n",
              "    <tr>\n",
              "      <th>4</th>\n",
              "      <td>100038</td>\n",
              "      <td>__label____label__25080,2720,27650,2859,4019,4...</td>\n",
              "    </tr>\n",
              "  </tbody>\n",
              "</table>\n",
              "</div>\n",
              "      <button class=\"colab-df-convert\" onclick=\"convertToInteractive('df-461fcef4-7db6-4f00-8047-7fe3e0899f0d')\"\n",
              "              title=\"Convert this dataframe to an interactive table.\"\n",
              "              style=\"display:none;\">\n",
              "        \n",
              "  <svg xmlns=\"http://www.w3.org/2000/svg\" height=\"24px\"viewBox=\"0 0 24 24\"\n",
              "       width=\"24px\">\n",
              "    <path d=\"M0 0h24v24H0V0z\" fill=\"none\"/>\n",
              "    <path d=\"M18.56 5.44l.94 2.06.94-2.06 2.06-.94-2.06-.94-.94-2.06-.94 2.06-2.06.94zm-11 1L8.5 8.5l.94-2.06 2.06-.94-2.06-.94L8.5 2.5l-.94 2.06-2.06.94zm10 10l.94 2.06.94-2.06 2.06-.94-2.06-.94-.94-2.06-.94 2.06-2.06.94z\"/><path d=\"M17.41 7.96l-1.37-1.37c-.4-.4-.92-.59-1.43-.59-.52 0-1.04.2-1.43.59L10.3 9.45l-7.72 7.72c-.78.78-.78 2.05 0 2.83L4 21.41c.39.39.9.59 1.41.59.51 0 1.02-.2 1.41-.59l7.78-7.78 2.81-2.81c.8-.78.8-2.07 0-2.86zM5.41 20L4 18.59l7.72-7.72 1.47 1.35L5.41 20z\"/>\n",
              "  </svg>\n",
              "      </button>\n",
              "      \n",
              "  <style>\n",
              "    .colab-df-container {\n",
              "      display:flex;\n",
              "      flex-wrap:wrap;\n",
              "      gap: 12px;\n",
              "    }\n",
              "\n",
              "    .colab-df-convert {\n",
              "      background-color: #E8F0FE;\n",
              "      border: none;\n",
              "      border-radius: 50%;\n",
              "      cursor: pointer;\n",
              "      display: none;\n",
              "      fill: #1967D2;\n",
              "      height: 32px;\n",
              "      padding: 0 0 0 0;\n",
              "      width: 32px;\n",
              "    }\n",
              "\n",
              "    .colab-df-convert:hover {\n",
              "      background-color: #E2EBFA;\n",
              "      box-shadow: 0px 1px 2px rgba(60, 64, 67, 0.3), 0px 1px 3px 1px rgba(60, 64, 67, 0.15);\n",
              "      fill: #174EA6;\n",
              "    }\n",
              "\n",
              "    [theme=dark] .colab-df-convert {\n",
              "      background-color: #3B4455;\n",
              "      fill: #D2E3FC;\n",
              "    }\n",
              "\n",
              "    [theme=dark] .colab-df-convert:hover {\n",
              "      background-color: #434B5C;\n",
              "      box-shadow: 0px 1px 3px 1px rgba(0, 0, 0, 0.15);\n",
              "      filter: drop-shadow(0px 1px 2px rgba(0, 0, 0, 0.3));\n",
              "      fill: #FFFFFF;\n",
              "    }\n",
              "  </style>\n",
              "\n",
              "      <script>\n",
              "        const buttonEl =\n",
              "          document.querySelector('#df-461fcef4-7db6-4f00-8047-7fe3e0899f0d button.colab-df-convert');\n",
              "        buttonEl.style.display =\n",
              "          google.colab.kernel.accessAllowed ? 'block' : 'none';\n",
              "\n",
              "        async function convertToInteractive(key) {\n",
              "          const element = document.querySelector('#df-461fcef4-7db6-4f00-8047-7fe3e0899f0d');\n",
              "          const dataTable =\n",
              "            await google.colab.kernel.invokeFunction('convertToInteractive',\n",
              "                                                     [key], {});\n",
              "          if (!dataTable) return;\n",
              "\n",
              "          const docLinkHtml = 'Like what you see? Visit the ' +\n",
              "            '<a target=\"_blank\" href=https://colab.research.google.com/notebooks/data_table.ipynb>data table notebook</a>'\n",
              "            + ' to learn more about interactive tables.';\n",
              "          element.innerHTML = '';\n",
              "          dataTable['output_type'] = 'display_data';\n",
              "          await google.colab.output.renderOutput(dataTable, element);\n",
              "          const docLink = document.createElement('div');\n",
              "          docLink.innerHTML = docLinkHtml;\n",
              "          element.appendChild(docLink);\n",
              "        }\n",
              "      </script>\n",
              "    </div>\n",
              "  </div>\n",
              "  "
            ],
            "text/plain": [
              "   HADM_ID                                          icd_codes\n",
              "0   100001  __label____label__25013,25043,25053,25063,2508...\n",
              "1   100009  __label____label__25000,2720,27800,2859,4019,4...\n",
              "2   100018  __label____label__2254,25040,25060,25070,2761,...\n",
              "3   100034  __label____label__25000,2724,4019,412,4139,414...\n",
              "4   100038  __label____label__25080,2720,27650,2859,4019,4..."
            ]
          },
          "execution_count": 23,
          "metadata": {},
          "output_type": "execute_result"
        }
      ],
      "source": [
        "admin_icd.loc[:, 'icd_codes'] = admin_icd.loc[:, 'icd_codes'].apply(lambda x: '__label__' + x)\n",
        "admin_icd.head()"
      ]
    },
    {
      "cell_type": "code",
      "execution_count": null,
      "metadata": {
        "id": "tO_I6xylFhrR"
      },
      "outputs": [],
      "source": [
        "for i in range (len(admin_icd)):\n",
        "  tmp=''\n",
        "  for j in admin_icd.loc[i, 'icd_codes'].split(\",\"):\n",
        "    tmp=tmp+'__label__' + j+' '\n",
        "  admin_icd.loc[i,'icd_codes']=tmp\n"
      ]
    },
    {
      "cell_type": "code",
      "execution_count": null,
      "metadata": {
        "colab": {
          "base_uri": "https://localhost:8080/",
          "height": 105
        },
        "id": "yr05WUNn-EfC",
        "outputId": "bda73a4e-c89b-40d2-b4d6-b33fcc03a7d7"
      },
      "outputs": [
        {
          "data": {
            "application/vnd.google.colaboratory.intrinsic+json": {
              "type": "string"
            },
            "text/plain": [
              "'am chest pa lat clip clip number radiology reason evaluate for lead position admitting diagnosis pneumonia hospital medical condition year old man with new dual chamber icd via left hepatic vein reason for this examination evaluate for lead position final report history year old male with dual chamber pacing device via left hepatic vein please evaluate lead position comparison chest radiograph from three days prior two views of the chest the left chest pacing device has two intact leads projecting over the expected location of the right atrium and ventricle in apparently satisfactory position right upper lobe opacity likely most likely infectious but possibly neoplasm was better seen on cta three days prior minimal vascular engorgement has not changed mild cardiomegaly is stable impression successful placement of pacing device in the expected location'"
            ]
          },
          "execution_count": 102,
          "metadata": {},
          "output_type": "execute_result"
        }
      ],
      "source": [
        "notes.TEXT[0]"
      ]
    },
    {
      "cell_type": "code",
      "execution_count": null,
      "metadata": {
        "colab": {
          "base_uri": "https://localhost:8080/",
          "height": 105
        },
        "id": "4YD-mLb0Su3L",
        "outputId": "118e8a06-0e73-4c1c-bb33-d44189129a38"
      },
      "outputs": [
        {
          "data": {
            "application/vnd.google.colaboratory.intrinsic+json": {
              "type": "string"
            },
            "text/plain": [
              "'am chest pa lat clip clip number radiology reason evaluate for lead position admitting diagnosis pneumonia hospital medical condition year old man with new dual chamber icd via left cephalic vein reason for this examination evaluate for lead position final report history year old male with dual chamber pacing device via left cephalic vein please evaluate lead position comparison chest radiograph from three days prior two views of the chest the left chest pacing device has two intact leads projecting over the expected location of the right atrium and ventricle in apparently satisfactory position right upper lobe opacity likely most likely infectious but possibly neoplastic was better seen on cta three days prior minimal vascular engorgement has not changed mild cardiomegaly is stable impression successful placement of pacing device in the expected location'"
            ]
          },
          "execution_count": 84,
          "metadata": {},
          "output_type": "execute_result"
        }
      ],
      "source": [
        "notes.TEXT[0]"
      ]
    },
    {
      "cell_type": "code",
      "execution_count": null,
      "metadata": {
        "id": "4gqRukFg-LX6"
      },
      "outputs": [],
      "source": [
        "tmp=0\n",
        "for id in notes.icd_HADM_ID:\n",
        "  if (id not in admin_icd.HADM_ID.tolist()):\n",
        "    print(id)\n"
      ]
    },
    {
      "cell_type": "code",
      "execution_count": null,
      "metadata": {
        "colab": {
          "base_uri": "https://localhost:8080/"
        },
        "id": "Mk8adERU-emH",
        "outputId": "dc9c7372-1fe6-4e06-dc93-26f8a1b74ff5"
      },
      "outputs": [
        {
          "data": {
            "text/plain": [
              "True"
            ]
          },
          "execution_count": 12,
          "metadata": {},
          "output_type": "execute_result"
        }
      ],
      "source": [
        "100001 in admin_icd.HADM_ID.tolist()"
      ]
    },
    {
      "cell_type": "code",
      "execution_count": null,
      "metadata": {
        "id": "VAV_FLUIFsbw"
      },
      "outputs": [],
      "source": [
        "mix_table=pd.merge(admin_icd,notes,on='HADM_ID')"
      ]
    },
    {
      "cell_type": "code",
      "execution_count": null,
      "metadata": {
        "colab": {
          "base_uri": "https://localhost:8080/",
          "height": 2560
        },
        "id": "2WDTc-eKIGuS",
        "outputId": "0c0b3e5f-847b-4782-bf94-da5b73638e68"
      },
      "outputs": [
        {
          "data": {
            "text/html": [
              "\n",
              "  <div id=\"df-16585cd8-d084-4ca5-a89e-c37c0f140e76\">\n",
              "    <div class=\"colab-df-container\">\n",
              "      <div>\n",
              "<style scoped>\n",
              "    .dataframe tbody tr th:only-of-type {\n",
              "        vertical-align: middle;\n",
              "    }\n",
              "\n",
              "    .dataframe tbody tr th {\n",
              "        vertical-align: top;\n",
              "    }\n",
              "\n",
              "    .dataframe thead th {\n",
              "        text-align: right;\n",
              "    }\n",
              "</style>\n",
              "<table border=\"1\" class=\"dataframe\">\n",
              "  <thead>\n",
              "    <tr style=\"text-align: right;\">\n",
              "      <th></th>\n",
              "      <th>HADM_ID</th>\n",
              "      <th>icd_codes</th>\n",
              "      <th>ROW_ID</th>\n",
              "      <th>SUBJECT_ID</th>\n",
              "      <th>CATEGORY</th>\n",
              "      <th>CGID</th>\n",
              "      <th>CHARTDATE</th>\n",
              "      <th>CHARTTIME</th>\n",
              "      <th>DESCRIPTION</th>\n",
              "      <th>ISERROR</th>\n",
              "      <th>STORETIME</th>\n",
              "      <th>TEXT</th>\n",
              "    </tr>\n",
              "  </thead>\n",
              "  <tbody>\n",
              "    <tr>\n",
              "      <th>0</th>\n",
              "      <td>100018</td>\n",
              "      <td>__label__2254 __label__25040 __label__25060 __...</td>\n",
              "      <td>699999</td>\n",
              "      <td>58128</td>\n",
              "      <td>Physician</td>\n",
              "      <td>21365.0</td>\n",
              "      <td>2176-08-31</td>\n",
              "      <td>2176-08-31 06:06:00</td>\n",
              "      <td>Intensivist Note</td>\n",
              "      <td>NaN</td>\n",
              "      <td>2176-08-31 06:06:47</td>\n",
              "      <td>sicu hpi male extensive medical history includ...</td>\n",
              "    </tr>\n",
              "    <tr>\n",
              "      <th>1</th>\n",
              "      <td>100141</td>\n",
              "      <td>__label__0380 __label__25000 __label__33829 __...</td>\n",
              "      <td>633959</td>\n",
              "      <td>61215</td>\n",
              "      <td>Physician</td>\n",
              "      <td>20453.0</td>\n",
              "      <td>2173-10-01</td>\n",
              "      <td>2173-10-01 07:12:00</td>\n",
              "      <td>Intensivist Note</td>\n",
              "      <td>NaN</td>\n",
              "      <td>2173-10-01 07:12:16</td>\n",
              "      <td>sicu hpi the pt is ym with history of diabetes...</td>\n",
              "    </tr>\n",
              "    <tr>\n",
              "      <th>2</th>\n",
              "      <td>100284</td>\n",
              "      <td>__label__25000 __label__2724 __label__2859 __l...</td>\n",
              "      <td>1030855</td>\n",
              "      <td>32077</td>\n",
              "      <td>Radiology</td>\n",
              "      <td>NaN</td>\n",
              "      <td>2152-10-13</td>\n",
              "      <td>2152-10-13 07:48:00</td>\n",
              "      <td>CHEST (PORTABLE AP)</td>\n",
              "      <td>NaN</td>\n",
              "      <td>NaN</td>\n",
              "      <td>last name lf first name lf csurg fa am chest p...</td>\n",
              "    </tr>\n",
              "    <tr>\n",
              "      <th>3</th>\n",
              "      <td>100350</td>\n",
              "      <td>__label__03842 __label__25060 __label__2948 __...</td>\n",
              "      <td>1135606</td>\n",
              "      <td>56149</td>\n",
              "      <td>Radiology</td>\n",
              "      <td>NaN</td>\n",
              "      <td>2197-06-08</td>\n",
              "      <td>2197-06-08 03:45:00</td>\n",
              "      <td>CHEST (PORTABLE AP)</td>\n",
              "      <td>NaN</td>\n",
              "      <td>NaN</td>\n",
              "      <td>am chest portable ap clip clip number radiolog...</td>\n",
              "    </tr>\n",
              "    <tr>\n",
              "      <th>4</th>\n",
              "      <td>100524</td>\n",
              "      <td>__label__25041 __label__28529 __label__32723 _...</td>\n",
              "      <td>943037</td>\n",
              "      <td>12508</td>\n",
              "      <td>Radiology</td>\n",
              "      <td>NaN</td>\n",
              "      <td>2198-02-18</td>\n",
              "      <td>2198-02-18 03:21:00</td>\n",
              "      <td>CHEST (PORTABLE AP)</td>\n",
              "      <td>NaN</td>\n",
              "      <td>NaN</td>\n",
              "      <td>am chest portable ap clip clip number radiolog...</td>\n",
              "    </tr>\n",
              "  </tbody>\n",
              "</table>\n",
              "</div>\n",
              "      <button class=\"colab-df-convert\" onclick=\"convertToInteractive('df-16585cd8-d084-4ca5-a89e-c37c0f140e76')\"\n",
              "              title=\"Convert this dataframe to an interactive table.\"\n",
              "              style=\"display:none;\">\n",
              "        \n",
              "  <svg xmlns=\"http://www.w3.org/2000/svg\" height=\"24px\"viewBox=\"0 0 24 24\"\n",
              "       width=\"24px\">\n",
              "    <path d=\"M0 0h24v24H0V0z\" fill=\"none\"/>\n",
              "    <path d=\"M18.56 5.44l.94 2.06.94-2.06 2.06-.94-2.06-.94-.94-2.06-.94 2.06-2.06.94zm-11 1L8.5 8.5l.94-2.06 2.06-.94-2.06-.94L8.5 2.5l-.94 2.06-2.06.94zm10 10l.94 2.06.94-2.06 2.06-.94-2.06-.94-.94-2.06-.94 2.06-2.06.94z\"/><path d=\"M17.41 7.96l-1.37-1.37c-.4-.4-.92-.59-1.43-.59-.52 0-1.04.2-1.43.59L10.3 9.45l-7.72 7.72c-.78.78-.78 2.05 0 2.83L4 21.41c.39.39.9.59 1.41.59.51 0 1.02-.2 1.41-.59l7.78-7.78 2.81-2.81c.8-.78.8-2.07 0-2.86zM5.41 20L4 18.59l7.72-7.72 1.47 1.35L5.41 20z\"/>\n",
              "  </svg>\n",
              "      </button>\n",
              "      \n",
              "  <style>\n",
              "    .colab-df-container {\n",
              "      display:flex;\n",
              "      flex-wrap:wrap;\n",
              "      gap: 12px;\n",
              "    }\n",
              "\n",
              "    .colab-df-convert {\n",
              "      background-color: #E8F0FE;\n",
              "      border: none;\n",
              "      border-radius: 50%;\n",
              "      cursor: pointer;\n",
              "      display: none;\n",
              "      fill: #1967D2;\n",
              "      height: 32px;\n",
              "      padding: 0 0 0 0;\n",
              "      width: 32px;\n",
              "    }\n",
              "\n",
              "    .colab-df-convert:hover {\n",
              "      background-color: #E2EBFA;\n",
              "      box-shadow: 0px 1px 2px rgba(60, 64, 67, 0.3), 0px 1px 3px 1px rgba(60, 64, 67, 0.15);\n",
              "      fill: #174EA6;\n",
              "    }\n",
              "\n",
              "    [theme=dark] .colab-df-convert {\n",
              "      background-color: #3B4455;\n",
              "      fill: #D2E3FC;\n",
              "    }\n",
              "\n",
              "    [theme=dark] .colab-df-convert:hover {\n",
              "      background-color: #434B5C;\n",
              "      box-shadow: 0px 1px 3px 1px rgba(0, 0, 0, 0.15);\n",
              "      filter: drop-shadow(0px 1px 2px rgba(0, 0, 0, 0.3));\n",
              "      fill: #FFFFFF;\n",
              "    }\n",
              "  </style>\n",
              "\n",
              "      <script>\n",
              "        const buttonEl =\n",
              "          document.querySelector('#df-16585cd8-d084-4ca5-a89e-c37c0f140e76 button.colab-df-convert');\n",
              "        buttonEl.style.display =\n",
              "          google.colab.kernel.accessAllowed ? 'block' : 'none';\n",
              "\n",
              "        async function convertToInteractive(key) {\n",
              "          const element = document.querySelector('#df-16585cd8-d084-4ca5-a89e-c37c0f140e76');\n",
              "          const dataTable =\n",
              "            await google.colab.kernel.invokeFunction('convertToInteractive',\n",
              "                                                     [key], {});\n",
              "          if (!dataTable) return;\n",
              "\n",
              "          const docLinkHtml = 'Like what you see? Visit the ' +\n",
              "            '<a target=\"_blank\" href=https://colab.research.google.com/notebooks/data_table.ipynb>data table notebook</a>'\n",
              "            + ' to learn more about interactive tables.';\n",
              "          element.innerHTML = '';\n",
              "          dataTable['output_type'] = 'display_data';\n",
              "          await google.colab.output.renderOutput(dataTable, element);\n",
              "          const docLink = document.createElement('div');\n",
              "          docLink.innerHTML = docLinkHtml;\n",
              "          element.appendChild(docLink);\n",
              "        }\n",
              "      </script>\n",
              "    </div>\n",
              "  </div>\n",
              "  "
            ],
            "text/plain": [
              "   HADM_ID                                          icd_codes   ROW_ID  \\\n",
              "0   100018  __label__2254 __label__25040 __label__25060 __...   699999   \n",
              "1   100141  __label__0380 __label__25000 __label__33829 __...   633959   \n",
              "2   100284  __label__25000 __label__2724 __label__2859 __l...  1030855   \n",
              "3   100350  __label__03842 __label__25060 __label__2948 __...  1135606   \n",
              "4   100524  __label__25041 __label__28529 __label__32723 _...   943037   \n",
              "\n",
              "   SUBJECT_ID    CATEGORY     CGID   CHARTDATE            CHARTTIME  \\\n",
              "0       58128  Physician   21365.0  2176-08-31  2176-08-31 06:06:00   \n",
              "1       61215  Physician   20453.0  2173-10-01  2173-10-01 07:12:00   \n",
              "2       32077   Radiology      NaN  2152-10-13  2152-10-13 07:48:00   \n",
              "3       56149   Radiology      NaN  2197-06-08  2197-06-08 03:45:00   \n",
              "4       12508   Radiology      NaN  2198-02-18  2198-02-18 03:21:00   \n",
              "\n",
              "           DESCRIPTION  ISERROR            STORETIME  \\\n",
              "0     Intensivist Note      NaN  2176-08-31 06:06:47   \n",
              "1     Intensivist Note      NaN  2173-10-01 07:12:16   \n",
              "2  CHEST (PORTABLE AP)      NaN                  NaN   \n",
              "3  CHEST (PORTABLE AP)      NaN                  NaN   \n",
              "4  CHEST (PORTABLE AP)      NaN                  NaN   \n",
              "\n",
              "                                                TEXT  \n",
              "0  sicu hpi male extensive medical history includ...  \n",
              "1  sicu hpi the pt is ym with history of diabetes...  \n",
              "2  last name lf first name lf csurg fa am chest p...  \n",
              "3  am chest portable ap clip clip number radiolog...  \n",
              "4  am chest portable ap clip clip number radiolog...  "
            ]
          },
          "execution_count": 41,
          "metadata": {},
          "output_type": "execute_result"
        }
      ],
      "source": [
        "mix_table.head()"
      ]
    },
    {
      "cell_type": "code",
      "execution_count": null,
      "metadata": {
        "id": "slsXny8CIMOY"
      },
      "outputs": [],
      "source": [
        "import csv\n",
        "mix_table[['icd_codes', 'TEXT']].to_csv('train.txt', \n",
        "                                          index = False, \n",
        "                                          sep = ' ',\n",
        "                                          header = None,\n",
        "                                          quoting = csv.QUOTE_NONE, \n",
        "                                          quotechar = \"\", \n",
        "                                          escapechar = \" \" \n",
        "                                        )"
      ]
    },
    {
      "cell_type": "code",
      "execution_count": null,
      "metadata": {
        "colab": {
          "base_uri": "https://localhost:8080/"
        },
        "id": "KEQkppinKYxc",
        "outputId": "ceadbabc-fd33-42ea-b0b0-c473250711b4"
      },
      "outputs": [
        {
          "data": {
            "text/plain": [
              "791"
            ]
          },
          "execution_count": 60,
          "metadata": {},
          "output_type": "execute_result"
        }
      ],
      "source": [
        "len(notes.HADM_ID.unique())"
      ]
    },
    {
      "cell_type": "code",
      "execution_count": null,
      "metadata": {
        "id": "aemHpNQpJWqM"
      },
      "outputs": [],
      "source": [
        "model = fasttext.train_supervised('train.txt', wordNgrams=5)"
      ]
    },
    {
      "cell_type": "code",
      "execution_count": null,
      "metadata": {
        "colab": {
          "base_uri": "https://localhost:8080/"
        },
        "id": "olbrv-05Jd1i",
        "outputId": "4d6a3bf7-eec3-465f-e1d1-62675391447f"
      },
      "outputs": [
        {
          "data": {
            "text/plain": [
              "(1000, 0.672, 0.03683806600153492)"
            ]
          },
          "execution_count": 48,
          "metadata": {},
          "output_type": "execute_result"
        }
      ],
      "source": [
        "model.test('train.txt')\n"
      ]
    }
  ],
  "metadata": {
    "colab": {
      "collapsed_sections": [],
      "name": "CS 598 Final pj.ipynb",
      "provenance": [],
      "include_colab_link": true
    },
    "kernelspec": {
      "display_name": "Python 3",
      "name": "python3"
    },
    "language_info": {
      "name": "python"
    }
  },
  "nbformat": 4,
  "nbformat_minor": 0
}